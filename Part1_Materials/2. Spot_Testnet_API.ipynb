{
 "cells": [
  {
   "cell_type": "markdown",
   "id": "dab6e5ec",
   "metadata": {},
   "source": [
    "# Paper Trading with Python and Binance - the Spot Testnet API"
   ]
  },
  {
   "cell_type": "markdown",
   "id": "03859346",
   "metadata": {},
   "source": [
    "More Information and getting the Credentials: https://testnet.binance.vision/"
   ]
  },
  {
   "cell_type": "markdown",
   "id": "4f19bb62",
   "metadata": {},
   "source": [
    "__Insert your Spot Testnet Credentials here__:"
   ]
  },
  {
   "cell_type": "code",
   "execution_count": 11,
   "id": "2b9a8ea5",
   "metadata": {},
   "outputs": [],
   "source": [
    "api_key=\"UW1N8cz2r5ZIxFsBiF4WXDYyNJIbMtqHema1USdfSvUbQYG4wU2Ad8ZZn9Y2xfPa\"\n",
    "secret_key=\"iWpfQkCcr9OYrsZD8iddiTj6AYDk3tg6Paw1S0dXTlg4T0wapzb53bLR4fWxItvU\"\n"
   ]
  },
  {
   "cell_type": "code",
   "execution_count": null,
   "id": "8b299207",
   "metadata": {},
   "outputs": [],
   "source": []
  },
  {
   "cell_type": "markdown",
   "id": "49a45235",
   "metadata": {},
   "source": [
    "## Creating a Connection to the Spot Testnet"
   ]
  },
  {
   "cell_type": "code",
   "execution_count": 12,
   "id": "4743b747",
   "metadata": {},
   "outputs": [],
   "source": [
    "from binance.client import Client"
   ]
  },
  {
   "cell_type": "code",
   "execution_count": 13,
   "id": "84908c00",
   "metadata": {},
   "outputs": [],
   "source": [
    "client = Client(api_key = api_key, api_secret = secret_key, tld = \"com\", testnet = True) # Testnet!!!"
   ]
  },
  {
   "cell_type": "markdown",
   "id": "608d86bf",
   "metadata": {},
   "source": [
    "__Simple Rule:__ <br>\n",
    "Use your __Testnet Credentials with testnet = True__ and your __\"Real Account\" Credentials with testnet = False__ (default)"
   ]
  },
  {
   "cell_type": "code",
   "execution_count": 14,
   "id": "0c03d176",
   "metadata": {},
   "outputs": [
    {
     "data": {
      "text/plain": [
       "<binance.client.Client at 0x2184a449080>"
      ]
     },
     "execution_count": 14,
     "metadata": {},
     "output_type": "execute_result"
    }
   ],
   "source": [
    "client"
   ]
  },
  {
   "cell_type": "code",
   "execution_count": 15,
   "id": "b0795d04",
   "metadata": {},
   "outputs": [
    {
     "data": {
      "text/plain": [
       "{'makerCommission': 0,\n",
       " 'takerCommission': 0,\n",
       " 'buyerCommission': 0,\n",
       " 'sellerCommission': 0,\n",
       " 'commissionRates': {'maker': '0.00000000',\n",
       "  'taker': '0.00000000',\n",
       "  'buyer': '0.00000000',\n",
       "  'seller': '0.00000000'},\n",
       " 'canTrade': True,\n",
       " 'canWithdraw': False,\n",
       " 'canDeposit': False,\n",
       " 'brokered': False,\n",
       " 'requireSelfTradePrevention': False,\n",
       " 'updateTime': 1674299188527,\n",
       " 'accountType': 'SPOT',\n",
       " 'balances': [{'asset': 'BNB',\n",
       "   'free': '1000.00000000',\n",
       "   'locked': '0.00000000'},\n",
       "  {'asset': 'BTC', 'free': '1.00000000', 'locked': '0.00000000'},\n",
       "  {'asset': 'BUSD', 'free': '10000.00000000', 'locked': '0.00000000'},\n",
       "  {'asset': 'ETH', 'free': '100.00000000', 'locked': '0.00000000'},\n",
       "  {'asset': 'LTC', 'free': '500.00000000', 'locked': '0.00000000'},\n",
       "  {'asset': 'TRX', 'free': '500000.00000000', 'locked': '0.00000000'},\n",
       "  {'asset': 'USDT', 'free': '10000.00000000', 'locked': '0.00000000'},\n",
       "  {'asset': 'XRP', 'free': '50000.00000000', 'locked': '0.00000000'}],\n",
       " 'permissions': ['SPOT']}"
      ]
     },
     "execution_count": 15,
     "metadata": {},
     "output_type": "execute_result"
    }
   ],
   "source": [
    "client.get_account() # Test account details"
   ]
  },
  {
   "cell_type": "code",
   "execution_count": null,
   "id": "ee572efe",
   "metadata": {},
   "outputs": [],
   "source": []
  },
  {
   "cell_type": "markdown",
   "id": "aeb728c5",
   "metadata": {},
   "source": [
    "## Spot Testnet API - Overview"
   ]
  },
  {
   "cell_type": "markdown",
   "id": "40e56281",
   "metadata": {},
   "source": [
    "__Same Documentation applies for Spot Testnet:__"
   ]
  },
  {
   "cell_type": "markdown",
   "id": "9c151512",
   "metadata": {},
   "source": [
    "https://binance-docs.github.io/apidocs/spot/en/#introduction"
   ]
  },
  {
   "cell_type": "code",
   "execution_count": 16,
   "id": "bd670d70",
   "metadata": {},
   "outputs": [],
   "source": [
    "import pandas as pd\n",
    "from binance.client import Client"
   ]
  },
  {
   "cell_type": "code",
   "execution_count": 17,
   "id": "90d3ff60",
   "metadata": {},
   "outputs": [],
   "source": [
    "client = Client(api_key = api_key, api_secret = secret_key, tld = \"com\", testnet = True) # Testnet!!!"
   ]
  },
  {
   "cell_type": "code",
   "execution_count": 18,
   "id": "93f5a1e6",
   "metadata": {},
   "outputs": [
    {
     "data": {
      "text/plain": [
       "{'status': 0, 'msg': 'normal'}"
      ]
     },
     "execution_count": 18,
     "metadata": {},
     "output_type": "execute_result"
    }
   ],
   "source": [
    "client.get_system_status()"
   ]
  },
  {
   "cell_type": "code",
   "execution_count": 19,
   "id": "9f302a73",
   "metadata": {},
   "outputs": [
    {
     "data": {
      "text/plain": [
       "{'makerCommission': 0,\n",
       " 'takerCommission': 0,\n",
       " 'buyerCommission': 0,\n",
       " 'sellerCommission': 0,\n",
       " 'commissionRates': {'maker': '0.00000000',\n",
       "  'taker': '0.00000000',\n",
       "  'buyer': '0.00000000',\n",
       "  'seller': '0.00000000'},\n",
       " 'canTrade': True,\n",
       " 'canWithdraw': False,\n",
       " 'canDeposit': False,\n",
       " 'brokered': False,\n",
       " 'requireSelfTradePrevention': False,\n",
       " 'updateTime': 1674299188527,\n",
       " 'accountType': 'SPOT',\n",
       " 'balances': [{'asset': 'BNB',\n",
       "   'free': '1000.00000000',\n",
       "   'locked': '0.00000000'},\n",
       "  {'asset': 'BTC', 'free': '1.00000000', 'locked': '0.00000000'},\n",
       "  {'asset': 'BUSD', 'free': '10000.00000000', 'locked': '0.00000000'},\n",
       "  {'asset': 'ETH', 'free': '100.00000000', 'locked': '0.00000000'},\n",
       "  {'asset': 'LTC', 'free': '500.00000000', 'locked': '0.00000000'},\n",
       "  {'asset': 'TRX', 'free': '500000.00000000', 'locked': '0.00000000'},\n",
       "  {'asset': 'USDT', 'free': '10000.00000000', 'locked': '0.00000000'},\n",
       "  {'asset': 'XRP', 'free': '50000.00000000', 'locked': '0.00000000'}],\n",
       " 'permissions': ['SPOT']}"
      ]
     },
     "execution_count": 19,
     "metadata": {},
     "output_type": "execute_result"
    }
   ],
   "source": [
    "account = client.get_account()\n",
    "account"
   ]
  },
  {
   "cell_type": "code",
   "execution_count": 20,
   "id": "5fe880a7",
   "metadata": {},
   "outputs": [
    {
     "data": {
      "text/html": [
       "<div>\n",
       "<style scoped>\n",
       "    .dataframe tbody tr th:only-of-type {\n",
       "        vertical-align: middle;\n",
       "    }\n",
       "\n",
       "    .dataframe tbody tr th {\n",
       "        vertical-align: top;\n",
       "    }\n",
       "\n",
       "    .dataframe thead th {\n",
       "        text-align: right;\n",
       "    }\n",
       "</style>\n",
       "<table border=\"1\" class=\"dataframe\">\n",
       "  <thead>\n",
       "    <tr style=\"text-align: right;\">\n",
       "      <th></th>\n",
       "      <th>asset</th>\n",
       "      <th>free</th>\n",
       "      <th>locked</th>\n",
       "    </tr>\n",
       "  </thead>\n",
       "  <tbody>\n",
       "    <tr>\n",
       "      <th>0</th>\n",
       "      <td>BNB</td>\n",
       "      <td>1000.00000000</td>\n",
       "      <td>0.00000000</td>\n",
       "    </tr>\n",
       "    <tr>\n",
       "      <th>1</th>\n",
       "      <td>BTC</td>\n",
       "      <td>1.00000000</td>\n",
       "      <td>0.00000000</td>\n",
       "    </tr>\n",
       "    <tr>\n",
       "      <th>2</th>\n",
       "      <td>BUSD</td>\n",
       "      <td>10000.00000000</td>\n",
       "      <td>0.00000000</td>\n",
       "    </tr>\n",
       "    <tr>\n",
       "      <th>3</th>\n",
       "      <td>ETH</td>\n",
       "      <td>100.00000000</td>\n",
       "      <td>0.00000000</td>\n",
       "    </tr>\n",
       "    <tr>\n",
       "      <th>4</th>\n",
       "      <td>LTC</td>\n",
       "      <td>500.00000000</td>\n",
       "      <td>0.00000000</td>\n",
       "    </tr>\n",
       "    <tr>\n",
       "      <th>5</th>\n",
       "      <td>TRX</td>\n",
       "      <td>500000.00000000</td>\n",
       "      <td>0.00000000</td>\n",
       "    </tr>\n",
       "    <tr>\n",
       "      <th>6</th>\n",
       "      <td>USDT</td>\n",
       "      <td>10000.00000000</td>\n",
       "      <td>0.00000000</td>\n",
       "    </tr>\n",
       "    <tr>\n",
       "      <th>7</th>\n",
       "      <td>XRP</td>\n",
       "      <td>50000.00000000</td>\n",
       "      <td>0.00000000</td>\n",
       "    </tr>\n",
       "  </tbody>\n",
       "</table>\n",
       "</div>"
      ],
      "text/plain": [
       "  asset             free      locked\n",
       "0   BNB    1000.00000000  0.00000000\n",
       "1   BTC       1.00000000  0.00000000\n",
       "2  BUSD   10000.00000000  0.00000000\n",
       "3   ETH     100.00000000  0.00000000\n",
       "4   LTC     500.00000000  0.00000000\n",
       "5   TRX  500000.00000000  0.00000000\n",
       "6  USDT   10000.00000000  0.00000000\n",
       "7   XRP   50000.00000000  0.00000000"
      ]
     },
     "execution_count": 20,
     "metadata": {},
     "output_type": "execute_result"
    }
   ],
   "source": [
    "df = pd.DataFrame(account[\"balances\"])\n",
    "df"
   ]
  },
  {
   "cell_type": "code",
   "execution_count": 21,
   "id": "81f70401",
   "metadata": {},
   "outputs": [],
   "source": [
    "df.free = pd.to_numeric(df.free, errors = \"coerce\")\n",
    "df.locked = pd.to_numeric(df.locked, errors = \"coerce\")"
   ]
  },
  {
   "cell_type": "code",
   "execution_count": 22,
   "id": "390d6f03",
   "metadata": {},
   "outputs": [
    {
     "name": "stdout",
     "output_type": "stream",
     "text": [
      "<class 'pandas.core.frame.DataFrame'>\n",
      "RangeIndex: 8 entries, 0 to 7\n",
      "Data columns (total 3 columns):\n",
      " #   Column  Non-Null Count  Dtype  \n",
      "---  ------  --------------  -----  \n",
      " 0   asset   8 non-null      object \n",
      " 1   free    8 non-null      float64\n",
      " 2   locked  8 non-null      float64\n",
      "dtypes: float64(2), object(1)\n",
      "memory usage: 320.0+ bytes\n"
     ]
    }
   ],
   "source": [
    "df.info()"
   ]
  },
  {
   "cell_type": "code",
   "execution_count": 23,
   "id": "3d5a5dfc",
   "metadata": {},
   "outputs": [
    {
     "data": {
      "text/plain": [
       "{'asset': 'BTC', 'free': '1.00000000', 'locked': '0.00000000'}"
      ]
     },
     "execution_count": 23,
     "metadata": {},
     "output_type": "execute_result"
    }
   ],
   "source": [
    "client.get_asset_balance(asset = \"BTC\")"
   ]
  },
  {
   "cell_type": "code",
   "execution_count": 24,
   "id": "cf953033",
   "metadata": {},
   "outputs": [
    {
     "data": {
      "text/plain": [
       "{'asset': 'ETH', 'free': '100.00000000', 'locked': '0.00000000'}"
      ]
     },
     "execution_count": 24,
     "metadata": {},
     "output_type": "execute_result"
    }
   ],
   "source": [
    "client.get_asset_balance(asset = \"ETH\")"
   ]
  },
  {
   "cell_type": "code",
   "execution_count": 25,
   "id": "93c8b40a",
   "metadata": {},
   "outputs": [],
   "source": [
    "client.get_asset_balance(asset = \"EUR\")"
   ]
  },
  {
   "cell_type": "code",
   "execution_count": 26,
   "id": "84360e93",
   "metadata": {},
   "outputs": [
    {
     "data": {
      "text/plain": [
       "{'symbol': 'BTCUSDT', 'price': '22758.84000000'}"
      ]
     },
     "execution_count": 26,
     "metadata": {},
     "output_type": "execute_result"
    }
   ],
   "source": [
    "client.get_symbol_ticker(symbol = \"BTCUSDT\") # current price for one symbol"
   ]
  },
  {
   "cell_type": "code",
   "execution_count": 27,
   "id": "652274fc",
   "metadata": {},
   "outputs": [
    {
     "data": {
      "text/plain": [
       "[{'symbol': 'BNBBUSD', 'price': '301.60000000'},\n",
       " {'symbol': 'BTCBUSD', 'price': '22764.89000000'},\n",
       " {'symbol': 'ETHBUSD', 'price': '1639.76000000'},\n",
       " {'symbol': 'LTCBUSD', 'price': '88.88000000'},\n",
       " {'symbol': 'TRXBUSD', 'price': '0.06224000'},\n",
       " {'symbol': 'XRPBUSD', 'price': '0.40790000'},\n",
       " {'symbol': 'BNBUSDT', 'price': '301.60000000'},\n",
       " {'symbol': 'BTCUSDT', 'price': '22758.84000000'},\n",
       " {'symbol': 'ETHUSDT', 'price': '1639.32000000'},\n",
       " {'symbol': 'LTCUSDT', 'price': '88.85000000'},\n",
       " {'symbol': 'TRXUSDT', 'price': '0.06222000'},\n",
       " {'symbol': 'XRPUSDT', 'price': '0.40730000'},\n",
       " {'symbol': 'BNBBTC', 'price': '0.01325500'},\n",
       " {'symbol': 'ETHBTC', 'price': '0.07203200'},\n",
       " {'symbol': 'LTCBTC', 'price': '0.00390700'},\n",
       " {'symbol': 'TRXBTC', 'price': '0.00000273'},\n",
       " {'symbol': 'XRPBTC', 'price': '0.00001790'},\n",
       " {'symbol': 'LTCBNB', 'price': '0.29480000'},\n",
       " {'symbol': 'TRXBNB', 'price': '0.00020630'},\n",
       " {'symbol': 'XRPBNB', 'price': '0.00135100'}]"
      ]
     },
     "execution_count": 27,
     "metadata": {},
     "output_type": "execute_result"
    }
   ],
   "source": [
    "# get current prices for all pairs\n",
    "client.get_all_tickers()"
   ]
  },
  {
   "cell_type": "code",
   "execution_count": 28,
   "id": "69749ee7",
   "metadata": {},
   "outputs": [
    {
     "data": {
      "text/plain": [
       "{'symbol': 'BTCUSDT',\n",
       " 'priceChange': '1790.54000000',\n",
       " 'priceChangePercent': '8.539',\n",
       " 'weightedAvgPrice': '22027.40186346',\n",
       " 'prevClosePrice': '20967.75000000',\n",
       " 'lastPrice': '22758.84000000',\n",
       " 'lastQty': '0.11950200',\n",
       " 'bidPrice': '22757.03000000',\n",
       " 'bidQty': '0.02000000',\n",
       " 'askPrice': '22757.56000000',\n",
       " 'askQty': '0.11336900',\n",
       " 'openPrice': '20968.30000000',\n",
       " 'highPrice': '23329.29000000',\n",
       " 'lowPrice': '20719.55000000',\n",
       " 'volume': '8778.49331200',\n",
       " 'quoteVolume': '193367399.93909463',\n",
       " 'openTime': 1674212943441,\n",
       " 'closeTime': 1674299343441,\n",
       " 'firstId': 2595805,\n",
       " 'lastId': 2834572,\n",
       " 'count': 238768}"
      ]
     },
     "execution_count": 28,
     "metadata": {},
     "output_type": "execute_result"
    }
   ],
   "source": [
    "last24 = client.get_ticker(symbol = \"BTCUSDT\") # 24H Price change statistic\n",
    "last24"
   ]
  },
  {
   "cell_type": "code",
   "execution_count": 29,
   "id": "6a4d174a",
   "metadata": {},
   "outputs": [
    {
     "data": {
      "text/plain": [
       "1672790400000"
      ]
     },
     "execution_count": 29,
     "metadata": {},
     "output_type": "execute_result"
    }
   ],
   "source": [
    "timestamp = client._get_earliest_valid_timestamp(symbol = \"BTCUSDT\", interval = \"1d\")\n",
    "timestamp"
   ]
  },
  {
   "cell_type": "code",
   "execution_count": 30,
   "id": "564e7e2a",
   "metadata": {},
   "outputs": [
    {
     "data": {
      "text/plain": [
       "Timestamp('2023-01-04 00:00:00')"
      ]
     },
     "execution_count": 30,
     "metadata": {},
     "output_type": "execute_result"
    }
   ],
   "source": [
    "pd.to_datetime(timestamp, unit = \"ms\") # reset every month!!!"
   ]
  },
  {
   "cell_type": "code",
   "execution_count": 31,
   "id": "2e361b59",
   "metadata": {},
   "outputs": [],
   "source": [
    "def get_history(symbol, interval, start, end = None):\n",
    "    bars = client.get_historical_klines(symbol = symbol, interval = interval,\n",
    "                                        start_str = start, end_str = end, limit = 1000)\n",
    "    df = pd.DataFrame(bars)\n",
    "    df[\"Date\"] = pd.to_datetime(df.iloc[:,0], unit = \"ms\")\n",
    "    df.columns = [\"Open Time\", \"Open\", \"High\", \"Low\", \"Close\", \"Volume\",\n",
    "                  \"Clos Time\", \"Quote Asset Volume\", \"Number of Trades\",\n",
    "                  \"Taker Buy Base Asset Volume\", \"Taker Buy Quote Asset Volume\", \"Ignore\", \"Date\"]\n",
    "    df = df[[\"Date\", \"Open\", \"High\", \"Low\", \"Close\", \"Volume\"]].copy()\n",
    "    df.set_index(\"Date\", inplace = True)\n",
    "    for column in df.columns:\n",
    "        df[column] = pd.to_numeric(df[column], errors = \"coerce\")\n",
    "    \n",
    "    return df"
   ]
  },
  {
   "cell_type": "code",
   "execution_count": 32,
   "id": "97329e22",
   "metadata": {},
   "outputs": [
    {
     "data": {
      "text/html": [
       "<div>\n",
       "<style scoped>\n",
       "    .dataframe tbody tr th:only-of-type {\n",
       "        vertical-align: middle;\n",
       "    }\n",
       "\n",
       "    .dataframe tbody tr th {\n",
       "        vertical-align: top;\n",
       "    }\n",
       "\n",
       "    .dataframe thead th {\n",
       "        text-align: right;\n",
       "    }\n",
       "</style>\n",
       "<table border=\"1\" class=\"dataframe\">\n",
       "  <thead>\n",
       "    <tr style=\"text-align: right;\">\n",
       "      <th></th>\n",
       "      <th>Open</th>\n",
       "      <th>High</th>\n",
       "      <th>Low</th>\n",
       "      <th>Close</th>\n",
       "      <th>Volume</th>\n",
       "    </tr>\n",
       "    <tr>\n",
       "      <th>Date</th>\n",
       "      <th></th>\n",
       "      <th></th>\n",
       "      <th></th>\n",
       "      <th></th>\n",
       "      <th></th>\n",
       "    </tr>\n",
       "  </thead>\n",
       "  <tbody>\n",
       "    <tr>\n",
       "      <th>2023-01-04</th>\n",
       "      <td>16861.59</td>\n",
       "      <td>30000.00</td>\n",
       "      <td>8307.14</td>\n",
       "      <td>16850.67</td>\n",
       "      <td>6110.725091</td>\n",
       "    </tr>\n",
       "    <tr>\n",
       "      <th>2023-01-05</th>\n",
       "      <td>16850.87</td>\n",
       "      <td>60000.00</td>\n",
       "      <td>4135.70</td>\n",
       "      <td>16831.69</td>\n",
       "      <td>8939.577124</td>\n",
       "    </tr>\n",
       "    <tr>\n",
       "      <th>2023-01-06</th>\n",
       "      <td>16831.66</td>\n",
       "      <td>24422.69</td>\n",
       "      <td>3357.00</td>\n",
       "      <td>16950.57</td>\n",
       "      <td>8563.700707</td>\n",
       "    </tr>\n",
       "    <tr>\n",
       "      <th>2023-01-07</th>\n",
       "      <td>16950.36</td>\n",
       "      <td>60000.00</td>\n",
       "      <td>4863.40</td>\n",
       "      <td>16944.29</td>\n",
       "      <td>6624.075195</td>\n",
       "    </tr>\n",
       "    <tr>\n",
       "      <th>2023-01-08</th>\n",
       "      <td>16943.98</td>\n",
       "      <td>17706.40</td>\n",
       "      <td>16273.43</td>\n",
       "      <td>17128.81</td>\n",
       "      <td>7033.382652</td>\n",
       "    </tr>\n",
       "    <tr>\n",
       "      <th>2023-01-09</th>\n",
       "      <td>17128.84</td>\n",
       "      <td>60599.80</td>\n",
       "      <td>3457.00</td>\n",
       "      <td>17178.03</td>\n",
       "      <td>9033.356120</td>\n",
       "    </tr>\n",
       "    <tr>\n",
       "      <th>2023-01-10</th>\n",
       "      <td>17178.69</td>\n",
       "      <td>30000.00</td>\n",
       "      <td>3543.00</td>\n",
       "      <td>17440.48</td>\n",
       "      <td>7607.865235</td>\n",
       "    </tr>\n",
       "    <tr>\n",
       "      <th>2023-01-11</th>\n",
       "      <td>17440.42</td>\n",
       "      <td>60000.00</td>\n",
       "      <td>5000.00</td>\n",
       "      <td>17943.28</td>\n",
       "      <td>9328.609117</td>\n",
       "    </tr>\n",
       "    <tr>\n",
       "      <th>2023-01-12</th>\n",
       "      <td>17944.24</td>\n",
       "      <td>60000.00</td>\n",
       "      <td>4543.00</td>\n",
       "      <td>18846.13</td>\n",
       "      <td>9305.925209</td>\n",
       "    </tr>\n",
       "    <tr>\n",
       "      <th>2023-01-13</th>\n",
       "      <td>18846.35</td>\n",
       "      <td>25552.25</td>\n",
       "      <td>5638.29</td>\n",
       "      <td>19928.70</td>\n",
       "      <td>9022.208461</td>\n",
       "    </tr>\n",
       "    <tr>\n",
       "      <th>2023-01-14</th>\n",
       "      <td>19928.70</td>\n",
       "      <td>21244.25</td>\n",
       "      <td>17169.18</td>\n",
       "      <td>20953.14</td>\n",
       "      <td>9484.962993</td>\n",
       "    </tr>\n",
       "    <tr>\n",
       "      <th>2023-01-15</th>\n",
       "      <td>20953.05</td>\n",
       "      <td>60000.00</td>\n",
       "      <td>15500.10</td>\n",
       "      <td>20872.10</td>\n",
       "      <td>7724.582604</td>\n",
       "    </tr>\n",
       "    <tr>\n",
       "      <th>2023-01-16</th>\n",
       "      <td>20872.07</td>\n",
       "      <td>21450.18</td>\n",
       "      <td>20559.54</td>\n",
       "      <td>21186.54</td>\n",
       "      <td>8766.242123</td>\n",
       "    </tr>\n",
       "    <tr>\n",
       "      <th>2023-01-17</th>\n",
       "      <td>21185.34</td>\n",
       "      <td>21937.50</td>\n",
       "      <td>20113.61</td>\n",
       "      <td>21129.81</td>\n",
       "      <td>9127.169396</td>\n",
       "    </tr>\n",
       "    <tr>\n",
       "      <th>2023-01-18</th>\n",
       "      <td>21130.75</td>\n",
       "      <td>22082.59</td>\n",
       "      <td>18750.14</td>\n",
       "      <td>20676.34</td>\n",
       "      <td>8828.272862</td>\n",
       "    </tr>\n",
       "    <tr>\n",
       "      <th>2023-01-19</th>\n",
       "      <td>20676.04</td>\n",
       "      <td>21879.07</td>\n",
       "      <td>20192.61</td>\n",
       "      <td>21072.72</td>\n",
       "      <td>7791.776432</td>\n",
       "    </tr>\n",
       "    <tr>\n",
       "      <th>2023-01-20</th>\n",
       "      <td>21072.35</td>\n",
       "      <td>22732.00</td>\n",
       "      <td>20719.55</td>\n",
       "      <td>22668.08</td>\n",
       "      <td>8526.284758</td>\n",
       "    </tr>\n",
       "    <tr>\n",
       "      <th>2023-01-21</th>\n",
       "      <td>22668.00</td>\n",
       "      <td>23329.29</td>\n",
       "      <td>22372.05</td>\n",
       "      <td>22758.84</td>\n",
       "      <td>3623.101772</td>\n",
       "    </tr>\n",
       "  </tbody>\n",
       "</table>\n",
       "</div>"
      ],
      "text/plain": [
       "                Open      High       Low     Close       Volume\n",
       "Date                                                           \n",
       "2023-01-04  16861.59  30000.00   8307.14  16850.67  6110.725091\n",
       "2023-01-05  16850.87  60000.00   4135.70  16831.69  8939.577124\n",
       "2023-01-06  16831.66  24422.69   3357.00  16950.57  8563.700707\n",
       "2023-01-07  16950.36  60000.00   4863.40  16944.29  6624.075195\n",
       "2023-01-08  16943.98  17706.40  16273.43  17128.81  7033.382652\n",
       "2023-01-09  17128.84  60599.80   3457.00  17178.03  9033.356120\n",
       "2023-01-10  17178.69  30000.00   3543.00  17440.48  7607.865235\n",
       "2023-01-11  17440.42  60000.00   5000.00  17943.28  9328.609117\n",
       "2023-01-12  17944.24  60000.00   4543.00  18846.13  9305.925209\n",
       "2023-01-13  18846.35  25552.25   5638.29  19928.70  9022.208461\n",
       "2023-01-14  19928.70  21244.25  17169.18  20953.14  9484.962993\n",
       "2023-01-15  20953.05  60000.00  15500.10  20872.10  7724.582604\n",
       "2023-01-16  20872.07  21450.18  20559.54  21186.54  8766.242123\n",
       "2023-01-17  21185.34  21937.50  20113.61  21129.81  9127.169396\n",
       "2023-01-18  21130.75  22082.59  18750.14  20676.34  8828.272862\n",
       "2023-01-19  20676.04  21879.07  20192.61  21072.72  7791.776432\n",
       "2023-01-20  21072.35  22732.00  20719.55  22668.08  8526.284758\n",
       "2023-01-21  22668.00  23329.29  22372.05  22758.84  3623.101772"
      ]
     },
     "execution_count": 32,
     "metadata": {},
     "output_type": "execute_result"
    }
   ],
   "source": [
    "df = get_history(symbol = \"BTCUSDT\", interval = \"1d\", start = timestamp)\n",
    "df"
   ]
  },
  {
   "cell_type": "code",
   "execution_count": 33,
   "id": "a860eb2e",
   "metadata": {},
   "outputs": [
    {
     "data": {
      "text/html": [
       "<div>\n",
       "<style scoped>\n",
       "    .dataframe tbody tr th:only-of-type {\n",
       "        vertical-align: middle;\n",
       "    }\n",
       "\n",
       "    .dataframe tbody tr th {\n",
       "        vertical-align: top;\n",
       "    }\n",
       "\n",
       "    .dataframe thead th {\n",
       "        text-align: right;\n",
       "    }\n",
       "</style>\n",
       "<table border=\"1\" class=\"dataframe\">\n",
       "  <thead>\n",
       "    <tr style=\"text-align: right;\">\n",
       "      <th></th>\n",
       "      <th>Open</th>\n",
       "      <th>High</th>\n",
       "      <th>Low</th>\n",
       "      <th>Close</th>\n",
       "      <th>Volume</th>\n",
       "    </tr>\n",
       "    <tr>\n",
       "      <th>Date</th>\n",
       "      <th></th>\n",
       "      <th></th>\n",
       "      <th></th>\n",
       "      <th></th>\n",
       "      <th></th>\n",
       "    </tr>\n",
       "  </thead>\n",
       "  <tbody>\n",
       "    <tr>\n",
       "      <th>2023-01-04 07:00:00</th>\n",
       "      <td>16861.59</td>\n",
       "      <td>18035.75</td>\n",
       "      <td>8307.14</td>\n",
       "      <td>16870.19</td>\n",
       "      <td>165.974367</td>\n",
       "    </tr>\n",
       "    <tr>\n",
       "      <th>2023-01-04 08:00:00</th>\n",
       "      <td>16870.19</td>\n",
       "      <td>18622.19</td>\n",
       "      <td>16834.03</td>\n",
       "      <td>16864.48</td>\n",
       "      <td>362.609226</td>\n",
       "    </tr>\n",
       "    <tr>\n",
       "      <th>2023-01-04 09:00:00</th>\n",
       "      <td>16864.78</td>\n",
       "      <td>16868.05</td>\n",
       "      <td>16834.81</td>\n",
       "      <td>16845.39</td>\n",
       "      <td>285.018550</td>\n",
       "    </tr>\n",
       "    <tr>\n",
       "      <th>2023-01-04 10:00:00</th>\n",
       "      <td>16844.91</td>\n",
       "      <td>16847.60</td>\n",
       "      <td>16832.66</td>\n",
       "      <td>16845.20</td>\n",
       "      <td>263.440738</td>\n",
       "    </tr>\n",
       "    <tr>\n",
       "      <th>2023-01-04 11:00:00</th>\n",
       "      <td>16845.36</td>\n",
       "      <td>24403.80</td>\n",
       "      <td>16834.53</td>\n",
       "      <td>16835.50</td>\n",
       "      <td>268.579032</td>\n",
       "    </tr>\n",
       "    <tr>\n",
       "      <th>...</th>\n",
       "      <td>...</td>\n",
       "      <td>...</td>\n",
       "      <td>...</td>\n",
       "      <td>...</td>\n",
       "      <td>...</td>\n",
       "    </tr>\n",
       "    <tr>\n",
       "      <th>2023-01-21 07:00:00</th>\n",
       "      <td>22619.70</td>\n",
       "      <td>22656.89</td>\n",
       "      <td>22601.91</td>\n",
       "      <td>22639.19</td>\n",
       "      <td>294.837230</td>\n",
       "    </tr>\n",
       "    <tr>\n",
       "      <th>2023-01-21 08:00:00</th>\n",
       "      <td>22640.23</td>\n",
       "      <td>22795.44</td>\n",
       "      <td>22626.90</td>\n",
       "      <td>22704.94</td>\n",
       "      <td>341.888779</td>\n",
       "    </tr>\n",
       "    <tr>\n",
       "      <th>2023-01-21 09:00:00</th>\n",
       "      <td>22706.70</td>\n",
       "      <td>23060.06</td>\n",
       "      <td>22688.21</td>\n",
       "      <td>23029.30</td>\n",
       "      <td>353.827033</td>\n",
       "    </tr>\n",
       "    <tr>\n",
       "      <th>2023-01-21 10:00:00</th>\n",
       "      <td>23029.30</td>\n",
       "      <td>23329.29</td>\n",
       "      <td>22614.00</td>\n",
       "      <td>22779.76</td>\n",
       "      <td>417.027424</td>\n",
       "    </tr>\n",
       "    <tr>\n",
       "      <th>2023-01-21 11:00:00</th>\n",
       "      <td>22778.88</td>\n",
       "      <td>22808.48</td>\n",
       "      <td>22737.21</td>\n",
       "      <td>22758.84</td>\n",
       "      <td>55.353080</td>\n",
       "    </tr>\n",
       "  </tbody>\n",
       "</table>\n",
       "<p>413 rows × 5 columns</p>\n",
       "</div>"
      ],
      "text/plain": [
       "                         Open      High       Low     Close      Volume\n",
       "Date                                                                   \n",
       "2023-01-04 07:00:00  16861.59  18035.75   8307.14  16870.19  165.974367\n",
       "2023-01-04 08:00:00  16870.19  18622.19  16834.03  16864.48  362.609226\n",
       "2023-01-04 09:00:00  16864.78  16868.05  16834.81  16845.39  285.018550\n",
       "2023-01-04 10:00:00  16844.91  16847.60  16832.66  16845.20  263.440738\n",
       "2023-01-04 11:00:00  16845.36  24403.80  16834.53  16835.50  268.579032\n",
       "...                       ...       ...       ...       ...         ...\n",
       "2023-01-21 07:00:00  22619.70  22656.89  22601.91  22639.19  294.837230\n",
       "2023-01-21 08:00:00  22640.23  22795.44  22626.90  22704.94  341.888779\n",
       "2023-01-21 09:00:00  22706.70  23060.06  22688.21  23029.30  353.827033\n",
       "2023-01-21 10:00:00  23029.30  23329.29  22614.00  22779.76  417.027424\n",
       "2023-01-21 11:00:00  22778.88  22808.48  22737.21  22758.84   55.353080\n",
       "\n",
       "[413 rows x 5 columns]"
      ]
     },
     "execution_count": 33,
     "metadata": {},
     "output_type": "execute_result"
    }
   ],
   "source": [
    "df = get_history(symbol = \"BTCUSDT\", interval = \"1h\", start = \"2021-09-15\")\n",
    "df"
   ]
  },
  {
   "cell_type": "code",
   "execution_count": 34,
   "id": "6215bd3a",
   "metadata": {},
   "outputs": [],
   "source": [
    "from binance import ThreadedWebsocketManager"
   ]
  },
  {
   "cell_type": "code",
   "execution_count": 35,
   "id": "f3c79706",
   "metadata": {},
   "outputs": [],
   "source": [
    "def stream_data(msg):\n",
    "    ''' define how to process incoming WebSocket messages '''\n",
    "    \n",
    "    time = pd.to_datetime(msg[\"E\"], unit = \"ms\")\n",
    "    price = msg[\"c\"]\n",
    "    \n",
    "    print(\"Time: {} | Price: {}\".format(time, price))"
   ]
  },
  {
   "cell_type": "code",
   "execution_count": 36,
   "id": "9a653d18",
   "metadata": {},
   "outputs": [],
   "source": [
    "# initialize and start the WebSocket\n",
    "twm = ThreadedWebsocketManager()\n",
    "twm.start()"
   ]
  },
  {
   "cell_type": "code",
   "execution_count": 37,
   "id": "1db6b7b8",
   "metadata": {},
   "outputs": [
    {
     "data": {
      "text/plain": [
       "'btcusdt@miniTicker'"
      ]
     },
     "execution_count": 37,
     "metadata": {},
     "output_type": "execute_result"
    }
   ],
   "source": [
    "# subscribe to the stream\n",
    "twm.start_symbol_miniticker_socket(callback = stream_data, symbol = \"BTCUSDT\")"
   ]
  },
  {
   "cell_type": "code",
   "execution_count": 38,
   "id": "473ab5ee",
   "metadata": {},
   "outputs": [],
   "source": [
    "twm.stop() # stop the Websocket/Stream"
   ]
  },
  {
   "cell_type": "code",
   "execution_count": null,
   "id": "6d333319",
   "metadata": {},
   "outputs": [],
   "source": []
  },
  {
   "cell_type": "markdown",
   "id": "f9c909d8",
   "metadata": {},
   "source": [
    "## Placing a Market Buy Order"
   ]
  },
  {
   "cell_type": "code",
   "execution_count": 39,
   "id": "385a2351",
   "metadata": {},
   "outputs": [],
   "source": [
    "from binance.client import Client\n",
    "import pandas as pd"
   ]
  },
  {
   "cell_type": "code",
   "execution_count": 40,
   "id": "d9de7cad",
   "metadata": {},
   "outputs": [],
   "source": [
    "client = Client(api_key = api_key, api_secret = secret_key, tld = \"com\", testnet = True) "
   ]
  },
  {
   "cell_type": "code",
   "execution_count": 41,
   "id": "66e49c94",
   "metadata": {},
   "outputs": [
    {
     "data": {
      "text/plain": [
       "{'makerCommission': 0,\n",
       " 'takerCommission': 0,\n",
       " 'buyerCommission': 0,\n",
       " 'sellerCommission': 0,\n",
       " 'commissionRates': {'maker': '0.00000000',\n",
       "  'taker': '0.00000000',\n",
       "  'buyer': '0.00000000',\n",
       "  'seller': '0.00000000'},\n",
       " 'canTrade': True,\n",
       " 'canWithdraw': False,\n",
       " 'canDeposit': False,\n",
       " 'brokered': False,\n",
       " 'requireSelfTradePrevention': False,\n",
       " 'updateTime': 1674299188527,\n",
       " 'accountType': 'SPOT',\n",
       " 'balances': [{'asset': 'BNB',\n",
       "   'free': '1000.00000000',\n",
       "   'locked': '0.00000000'},\n",
       "  {'asset': 'BTC', 'free': '1.00000000', 'locked': '0.00000000'},\n",
       "  {'asset': 'BUSD', 'free': '10000.00000000', 'locked': '0.00000000'},\n",
       "  {'asset': 'ETH', 'free': '100.00000000', 'locked': '0.00000000'},\n",
       "  {'asset': 'LTC', 'free': '500.00000000', 'locked': '0.00000000'},\n",
       "  {'asset': 'TRX', 'free': '500000.00000000', 'locked': '0.00000000'},\n",
       "  {'asset': 'USDT', 'free': '10000.00000000', 'locked': '0.00000000'},\n",
       "  {'asset': 'XRP', 'free': '50000.00000000', 'locked': '0.00000000'}],\n",
       " 'permissions': ['SPOT']}"
      ]
     },
     "execution_count": 41,
     "metadata": {},
     "output_type": "execute_result"
    }
   ],
   "source": [
    "client.get_account() "
   ]
  },
  {
   "cell_type": "code",
   "execution_count": 42,
   "id": "0561c813",
   "metadata": {},
   "outputs": [],
   "source": [
    "# buy 0.1 BTC\n",
    "order = client.create_order(symbol = \"BTCUSDT\", side = \"BUY\", type = \"MARKET\", quantity = 0.1)"
   ]
  },
  {
   "cell_type": "code",
   "execution_count": 43,
   "id": "6e99aed2",
   "metadata": {},
   "outputs": [
    {
     "data": {
      "text/plain": [
       "{'symbol': 'BTCUSDT',\n",
       " 'orderId': 10787333,\n",
       " 'orderListId': -1,\n",
       " 'clientOrderId': 'd0ZGTa2R2CWRJj2VKoscpM',\n",
       " 'transactTime': 1674299345028,\n",
       " 'price': '0.00000000',\n",
       " 'origQty': '0.10000000',\n",
       " 'executedQty': '0.10000000',\n",
       " 'cummulativeQuoteQty': '2275.79385718',\n",
       " 'status': 'FILLED',\n",
       " 'timeInForce': 'GTC',\n",
       " 'type': 'MARKET',\n",
       " 'side': 'BUY',\n",
       " 'workingTime': 1674299345028,\n",
       " 'fills': [{'price': '22757.93000000',\n",
       "   'qty': '0.05714100',\n",
       "   'commission': '0.00000000',\n",
       "   'commissionAsset': 'BTC',\n",
       "   'tradeId': 2834577},\n",
       "  {'price': '22757.95000000',\n",
       "   'qty': '0.04285900',\n",
       "   'commission': '0.00000000',\n",
       "   'commissionAsset': 'BTC',\n",
       "   'tradeId': 2834578}],\n",
       " 'selfTradePreventionMode': 'NONE'}"
      ]
     },
     "execution_count": 43,
     "metadata": {},
     "output_type": "execute_result"
    }
   ],
   "source": [
    "order"
   ]
  },
  {
   "cell_type": "code",
   "execution_count": 44,
   "id": "e031c52e",
   "metadata": {
    "scrolled": true
   },
   "outputs": [
    {
     "data": {
      "text/html": [
       "<div>\n",
       "<style scoped>\n",
       "    .dataframe tbody tr th:only-of-type {\n",
       "        vertical-align: middle;\n",
       "    }\n",
       "\n",
       "    .dataframe tbody tr th {\n",
       "        vertical-align: top;\n",
       "    }\n",
       "\n",
       "    .dataframe thead th {\n",
       "        text-align: right;\n",
       "    }\n",
       "</style>\n",
       "<table border=\"1\" class=\"dataframe\">\n",
       "  <thead>\n",
       "    <tr style=\"text-align: right;\">\n",
       "      <th></th>\n",
       "      <th>price</th>\n",
       "      <th>qty</th>\n",
       "      <th>commission</th>\n",
       "      <th>commissionAsset</th>\n",
       "      <th>tradeId</th>\n",
       "    </tr>\n",
       "  </thead>\n",
       "  <tbody>\n",
       "    <tr>\n",
       "      <th>0</th>\n",
       "      <td>22757.93000000</td>\n",
       "      <td>0.05714100</td>\n",
       "      <td>0.00000000</td>\n",
       "      <td>BTC</td>\n",
       "      <td>2834577</td>\n",
       "    </tr>\n",
       "    <tr>\n",
       "      <th>1</th>\n",
       "      <td>22757.95000000</td>\n",
       "      <td>0.04285900</td>\n",
       "      <td>0.00000000</td>\n",
       "      <td>BTC</td>\n",
       "      <td>2834578</td>\n",
       "    </tr>\n",
       "  </tbody>\n",
       "</table>\n",
       "</div>"
      ],
      "text/plain": [
       "            price         qty  commission commissionAsset  tradeId\n",
       "0  22757.93000000  0.05714100  0.00000000             BTC  2834577\n",
       "1  22757.95000000  0.04285900  0.00000000             BTC  2834578"
      ]
     },
     "execution_count": 44,
     "metadata": {},
     "output_type": "execute_result"
    }
   ],
   "source": [
    "df = pd.DataFrame(order[\"fills\"])\n",
    "df"
   ]
  },
  {
   "cell_type": "code",
   "execution_count": 45,
   "id": "df26364c",
   "metadata": {},
   "outputs": [
    {
     "name": "stdout",
     "output_type": "stream",
     "text": [
      "<class 'pandas.core.frame.DataFrame'>\n",
      "RangeIndex: 2 entries, 0 to 1\n",
      "Data columns (total 5 columns):\n",
      " #   Column           Non-Null Count  Dtype \n",
      "---  ------           --------------  ----- \n",
      " 0   price            2 non-null      object\n",
      " 1   qty              2 non-null      object\n",
      " 2   commission       2 non-null      object\n",
      " 3   commissionAsset  2 non-null      object\n",
      " 4   tradeId          2 non-null      int64 \n",
      "dtypes: int64(1), object(4)\n",
      "memory usage: 208.0+ bytes\n"
     ]
    }
   ],
   "source": [
    "df.info()"
   ]
  },
  {
   "cell_type": "code",
   "execution_count": 46,
   "id": "b4746852",
   "metadata": {},
   "outputs": [],
   "source": [
    "num_columns = [\"price\", \"qty\", \"commission\"]"
   ]
  },
  {
   "cell_type": "code",
   "execution_count": 47,
   "id": "08a3b407",
   "metadata": {},
   "outputs": [],
   "source": [
    "for column in num_columns:\n",
    "    df[column] = pd.to_numeric(df[column], errors = \"coerce\")"
   ]
  },
  {
   "cell_type": "code",
   "execution_count": 48,
   "id": "212d4767",
   "metadata": {},
   "outputs": [
    {
     "name": "stdout",
     "output_type": "stream",
     "text": [
      "<class 'pandas.core.frame.DataFrame'>\n",
      "RangeIndex: 2 entries, 0 to 1\n",
      "Data columns (total 5 columns):\n",
      " #   Column           Non-Null Count  Dtype  \n",
      "---  ------           --------------  -----  \n",
      " 0   price            2 non-null      float64\n",
      " 1   qty              2 non-null      float64\n",
      " 2   commission       2 non-null      float64\n",
      " 3   commissionAsset  2 non-null      object \n",
      " 4   tradeId          2 non-null      int64  \n",
      "dtypes: float64(3), int64(1), object(1)\n",
      "memory usage: 208.0+ bytes\n"
     ]
    }
   ],
   "source": [
    "df.info()"
   ]
  },
  {
   "cell_type": "code",
   "execution_count": 49,
   "id": "3a3089bd",
   "metadata": {},
   "outputs": [
    {
     "data": {
      "text/plain": [
       "0.1"
      ]
     },
     "execution_count": 49,
     "metadata": {},
     "output_type": "execute_result"
    }
   ],
   "source": [
    "df.qty.sum()"
   ]
  },
  {
   "cell_type": "code",
   "execution_count": 50,
   "id": "a354199d",
   "metadata": {},
   "outputs": [
    {
     "data": {
      "text/plain": [
       "2275.79385718"
      ]
     },
     "execution_count": 50,
     "metadata": {},
     "output_type": "execute_result"
    }
   ],
   "source": [
    "df.price.mul(df.qty).sum()"
   ]
  },
  {
   "cell_type": "code",
   "execution_count": 51,
   "id": "f4685df9",
   "metadata": {},
   "outputs": [
    {
     "data": {
      "text/plain": [
       "{'makerCommission': 0,\n",
       " 'takerCommission': 0,\n",
       " 'buyerCommission': 0,\n",
       " 'sellerCommission': 0,\n",
       " 'commissionRates': {'maker': '0.00000000',\n",
       "  'taker': '0.00000000',\n",
       "  'buyer': '0.00000000',\n",
       "  'seller': '0.00000000'},\n",
       " 'canTrade': True,\n",
       " 'canWithdraw': False,\n",
       " 'canDeposit': False,\n",
       " 'brokered': False,\n",
       " 'requireSelfTradePrevention': False,\n",
       " 'updateTime': 1674299345028,\n",
       " 'accountType': 'SPOT',\n",
       " 'balances': [{'asset': 'BNB',\n",
       "   'free': '1000.00000000',\n",
       "   'locked': '0.00000000'},\n",
       "  {'asset': 'BTC', 'free': '1.10000000', 'locked': '0.00000000'},\n",
       "  {'asset': 'BUSD', 'free': '10000.00000000', 'locked': '0.00000000'},\n",
       "  {'asset': 'ETH', 'free': '100.00000000', 'locked': '0.00000000'},\n",
       "  {'asset': 'LTC', 'free': '500.00000000', 'locked': '0.00000000'},\n",
       "  {'asset': 'TRX', 'free': '500000.00000000', 'locked': '0.00000000'},\n",
       "  {'asset': 'USDT', 'free': '7724.20614282', 'locked': '0.00000000'},\n",
       "  {'asset': 'XRP', 'free': '50000.00000000', 'locked': '0.00000000'}],\n",
       " 'permissions': ['SPOT']}"
      ]
     },
     "execution_count": 51,
     "metadata": {},
     "output_type": "execute_result"
    }
   ],
   "source": [
    "client.get_account()"
   ]
  },
  {
   "cell_type": "code",
   "execution_count": 52,
   "id": "203c0298",
   "metadata": {},
   "outputs": [],
   "source": [
    "# buy BTC for 1,000 USDT \n",
    "order = client.create_order(symbol = \"BTCUSDT\", side = \"BUY\", type = \"MARKET\", quoteOrderQty = 1000)"
   ]
  },
  {
   "cell_type": "code",
   "execution_count": 53,
   "id": "d6064063",
   "metadata": {},
   "outputs": [
    {
     "data": {
      "text/plain": [
       "{'symbol': 'BTCUSDT',\n",
       " 'orderId': 10787338,\n",
       " 'orderListId': -1,\n",
       " 'clientOrderId': 'ZZvc1zs4z8NCbkD6OAmJab',\n",
       " 'transactTime': 1674299345719,\n",
       " 'price': '0.00000000',\n",
       " 'origQty': '0.04393500',\n",
       " 'executedQty': '0.04393500',\n",
       " 'cummulativeQuoteQty': '999.98740035',\n",
       " 'status': 'FILLED',\n",
       " 'timeInForce': 'GTC',\n",
       " 'type': 'MARKET',\n",
       " 'side': 'BUY',\n",
       " 'workingTime': 1674299345719,\n",
       " 'fills': [{'price': '22760.61000000',\n",
       "   'qty': '0.04393500',\n",
       "   'commission': '0.00000000',\n",
       "   'commissionAsset': 'BTC',\n",
       "   'tradeId': 2834585}],\n",
       " 'selfTradePreventionMode': 'NONE'}"
      ]
     },
     "execution_count": 53,
     "metadata": {},
     "output_type": "execute_result"
    }
   ],
   "source": [
    "order"
   ]
  },
  {
   "cell_type": "code",
   "execution_count": 54,
   "id": "e03c9827",
   "metadata": {},
   "outputs": [
    {
     "data": {
      "text/plain": [
       "22760.61"
      ]
     },
     "execution_count": 54,
     "metadata": {},
     "output_type": "execute_result"
    }
   ],
   "source": [
    "avr_price = float(order[\"cummulativeQuoteQty\"]) / float(order[\"origQty\"]) \n",
    "avr_price"
   ]
  },
  {
   "cell_type": "code",
   "execution_count": 55,
   "id": "518a611b",
   "metadata": {},
   "outputs": [
    {
     "data": {
      "text/plain": [
       "{'makerCommission': 0,\n",
       " 'takerCommission': 0,\n",
       " 'buyerCommission': 0,\n",
       " 'sellerCommission': 0,\n",
       " 'commissionRates': {'maker': '0.00000000',\n",
       "  'taker': '0.00000000',\n",
       "  'buyer': '0.00000000',\n",
       "  'seller': '0.00000000'},\n",
       " 'canTrade': True,\n",
       " 'canWithdraw': False,\n",
       " 'canDeposit': False,\n",
       " 'brokered': False,\n",
       " 'requireSelfTradePrevention': False,\n",
       " 'updateTime': 1674299345719,\n",
       " 'accountType': 'SPOT',\n",
       " 'balances': [{'asset': 'BNB',\n",
       "   'free': '1000.00000000',\n",
       "   'locked': '0.00000000'},\n",
       "  {'asset': 'BTC', 'free': '1.14393500', 'locked': '0.00000000'},\n",
       "  {'asset': 'BUSD', 'free': '10000.00000000', 'locked': '0.00000000'},\n",
       "  {'asset': 'ETH', 'free': '100.00000000', 'locked': '0.00000000'},\n",
       "  {'asset': 'LTC', 'free': '500.00000000', 'locked': '0.00000000'},\n",
       "  {'asset': 'TRX', 'free': '500000.00000000', 'locked': '0.00000000'},\n",
       "  {'asset': 'USDT', 'free': '6724.21874247', 'locked': '0.00000000'},\n",
       "  {'asset': 'XRP', 'free': '50000.00000000', 'locked': '0.00000000'}],\n",
       " 'permissions': ['SPOT']}"
      ]
     },
     "execution_count": 55,
     "metadata": {},
     "output_type": "execute_result"
    }
   ],
   "source": [
    "client.get_account()"
   ]
  },
  {
   "cell_type": "code",
   "execution_count": null,
   "id": "2e1f0aba",
   "metadata": {},
   "outputs": [],
   "source": []
  },
  {
   "cell_type": "markdown",
   "id": "2753fec7",
   "metadata": {},
   "source": [
    "## Placing a Market Sell Order"
   ]
  },
  {
   "cell_type": "code",
   "execution_count": 56,
   "id": "7c5e4d9a",
   "metadata": {},
   "outputs": [],
   "source": [
    "# selling 0.118011 BTC \n",
    "order = client.create_order(symbol = \"BTCUSDT\", side = \"SELL\", type = \"MARKET\", quantity = 0.1)"
   ]
  },
  {
   "cell_type": "code",
   "execution_count": 57,
   "id": "63bfde67",
   "metadata": {},
   "outputs": [
    {
     "data": {
      "text/plain": [
       "{'symbol': 'BTCUSDT',\n",
       " 'orderId': 10787341,\n",
       " 'orderListId': -1,\n",
       " 'clientOrderId': '6o3ZccoTlisIXc2rBIss2z',\n",
       " 'transactTime': 1674299346045,\n",
       " 'price': '0.00000000',\n",
       " 'origQty': '0.10000000',\n",
       " 'executedQty': '0.10000000',\n",
       " 'cummulativeQuoteQty': '2275.70500000',\n",
       " 'status': 'FILLED',\n",
       " 'timeInForce': 'GTC',\n",
       " 'type': 'MARKET',\n",
       " 'side': 'SELL',\n",
       " 'workingTime': 1674299346045,\n",
       " 'fills': [{'price': '22757.85000000',\n",
       "   'qty': '0.02000000',\n",
       "   'commission': '0.00000000',\n",
       "   'commissionAsset': 'USDT',\n",
       "   'tradeId': 2834586},\n",
       "  {'price': '22756.85000000',\n",
       "   'qty': '0.08000000',\n",
       "   'commission': '0.00000000',\n",
       "   'commissionAsset': 'USDT',\n",
       "   'tradeId': 2834587}],\n",
       " 'selfTradePreventionMode': 'NONE'}"
      ]
     },
     "execution_count": 57,
     "metadata": {},
     "output_type": "execute_result"
    }
   ],
   "source": [
    "order"
   ]
  },
  {
   "cell_type": "code",
   "execution_count": 58,
   "id": "46e9161c",
   "metadata": {},
   "outputs": [
    {
     "data": {
      "text/plain": [
       "{'makerCommission': 0,\n",
       " 'takerCommission': 0,\n",
       " 'buyerCommission': 0,\n",
       " 'sellerCommission': 0,\n",
       " 'commissionRates': {'maker': '0.00000000',\n",
       "  'taker': '0.00000000',\n",
       "  'buyer': '0.00000000',\n",
       "  'seller': '0.00000000'},\n",
       " 'canTrade': True,\n",
       " 'canWithdraw': False,\n",
       " 'canDeposit': False,\n",
       " 'brokered': False,\n",
       " 'requireSelfTradePrevention': False,\n",
       " 'updateTime': 1674299346045,\n",
       " 'accountType': 'SPOT',\n",
       " 'balances': [{'asset': 'BNB',\n",
       "   'free': '1000.00000000',\n",
       "   'locked': '0.00000000'},\n",
       "  {'asset': 'BTC', 'free': '1.04393500', 'locked': '0.00000000'},\n",
       "  {'asset': 'BUSD', 'free': '10000.00000000', 'locked': '0.00000000'},\n",
       "  {'asset': 'ETH', 'free': '100.00000000', 'locked': '0.00000000'},\n",
       "  {'asset': 'LTC', 'free': '500.00000000', 'locked': '0.00000000'},\n",
       "  {'asset': 'TRX', 'free': '500000.00000000', 'locked': '0.00000000'},\n",
       "  {'asset': 'USDT', 'free': '8999.92374247', 'locked': '0.00000000'},\n",
       "  {'asset': 'XRP', 'free': '50000.00000000', 'locked': '0.00000000'}],\n",
       " 'permissions': ['SPOT']}"
      ]
     },
     "execution_count": 58,
     "metadata": {},
     "output_type": "execute_result"
    }
   ],
   "source": [
    "client.get_account() # Test account details"
   ]
  },
  {
   "cell_type": "code",
   "execution_count": null,
   "id": "01f5b3eb",
   "metadata": {},
   "outputs": [],
   "source": []
  },
  {
   "cell_type": "markdown",
   "id": "40d2302c",
   "metadata": {},
   "source": [
    "## Placing Limit Orders"
   ]
  },
  {
   "cell_type": "code",
   "execution_count": 59,
   "id": "8c921629",
   "metadata": {},
   "outputs": [],
   "source": [
    "from binance.client import Client\n",
    "import pandas as pd"
   ]
  },
  {
   "cell_type": "code",
   "execution_count": 60,
   "id": "dc1d14a2",
   "metadata": {},
   "outputs": [],
   "source": [
    "client = Client(api_key = api_key, api_secret = secret_key, tld = \"com\", testnet = True) "
   ]
  },
  {
   "cell_type": "code",
   "execution_count": 61,
   "id": "94749439",
   "metadata": {},
   "outputs": [
    {
     "data": {
      "text/plain": [
       "{'makerCommission': 0,\n",
       " 'takerCommission': 0,\n",
       " 'buyerCommission': 0,\n",
       " 'sellerCommission': 0,\n",
       " 'commissionRates': {'maker': '0.00000000',\n",
       "  'taker': '0.00000000',\n",
       "  'buyer': '0.00000000',\n",
       "  'seller': '0.00000000'},\n",
       " 'canTrade': True,\n",
       " 'canWithdraw': False,\n",
       " 'canDeposit': False,\n",
       " 'brokered': False,\n",
       " 'requireSelfTradePrevention': False,\n",
       " 'updateTime': 1674299346045,\n",
       " 'accountType': 'SPOT',\n",
       " 'balances': [{'asset': 'BNB',\n",
       "   'free': '1000.00000000',\n",
       "   'locked': '0.00000000'},\n",
       "  {'asset': 'BTC', 'free': '1.04393500', 'locked': '0.00000000'},\n",
       "  {'asset': 'BUSD', 'free': '10000.00000000', 'locked': '0.00000000'},\n",
       "  {'asset': 'ETH', 'free': '100.00000000', 'locked': '0.00000000'},\n",
       "  {'asset': 'LTC', 'free': '500.00000000', 'locked': '0.00000000'},\n",
       "  {'asset': 'TRX', 'free': '500000.00000000', 'locked': '0.00000000'},\n",
       "  {'asset': 'USDT', 'free': '8999.92374247', 'locked': '0.00000000'},\n",
       "  {'asset': 'XRP', 'free': '50000.00000000', 'locked': '0.00000000'}],\n",
       " 'permissions': ['SPOT']}"
      ]
     },
     "execution_count": 61,
     "metadata": {},
     "output_type": "execute_result"
    }
   ],
   "source": [
    "client.get_account()"
   ]
  },
  {
   "cell_type": "code",
   "execution_count": 62,
   "id": "cd090e59",
   "metadata": {},
   "outputs": [
    {
     "data": {
      "text/plain": [
       "{'symbol': 'BTCUSDT', 'price': '22760.62000000'}"
      ]
     },
     "execution_count": 62,
     "metadata": {},
     "output_type": "execute_result"
    }
   ],
   "source": [
    "client.get_symbol_ticker(symbol = \"BTCUSDT\") # current price"
   ]
  },
  {
   "cell_type": "markdown",
   "id": "850300c8",
   "metadata": {},
   "source": [
    "__Limit Buy Order__"
   ]
  },
  {
   "cell_type": "code",
   "execution_count": 102,
   "id": "5d28a577",
   "metadata": {},
   "outputs": [],
   "source": [
    "order1 = client.create_order(symbol=\"BTCUSDT\", side = \"BUY\", type = \"LIMIT\",\n",
    "                            quantity = 0.1, timeInForce = \"GTC\", price = 10000)"
   ]
  },
  {
   "cell_type": "code",
   "execution_count": 103,
   "id": "b504bcf1",
   "metadata": {},
   "outputs": [
    {
     "data": {
      "text/plain": [
       "{'symbol': 'BTCUSDT',\n",
       " 'orderId': 10790656,\n",
       " 'orderListId': -1,\n",
       " 'clientOrderId': 'AYDZCeQOSz45vu6vfTOXhE',\n",
       " 'transactTime': 1674299958872,\n",
       " 'price': '10000.00000000',\n",
       " 'origQty': '0.10000000',\n",
       " 'executedQty': '0.00000000',\n",
       " 'cummulativeQuoteQty': '0.00000000',\n",
       " 'status': 'NEW',\n",
       " 'timeInForce': 'GTC',\n",
       " 'type': 'LIMIT',\n",
       " 'side': 'BUY',\n",
       " 'workingTime': 1674299958872,\n",
       " 'fills': [],\n",
       " 'selfTradePreventionMode': 'NONE'}"
      ]
     },
     "execution_count": 103,
     "metadata": {},
     "output_type": "execute_result"
    }
   ],
   "source": [
    "order1"
   ]
  },
  {
   "cell_type": "code",
   "execution_count": 104,
   "id": "45e8d645",
   "metadata": {},
   "outputs": [
    {
     "data": {
      "text/plain": [
       "10790656"
      ]
     },
     "execution_count": 104,
     "metadata": {},
     "output_type": "execute_result"
    }
   ],
   "source": [
    "order_id_buy = order1[\"orderId\"]\n",
    "order_id_buy"
   ]
  },
  {
   "cell_type": "code",
   "execution_count": 105,
   "id": "db9f17e8",
   "metadata": {},
   "outputs": [
    {
     "data": {
      "text/plain": [
       "{'symbol': 'BTCUSDT',\n",
       " 'orderId': 10790656,\n",
       " 'orderListId': -1,\n",
       " 'clientOrderId': 'AYDZCeQOSz45vu6vfTOXhE',\n",
       " 'price': '10000.00000000',\n",
       " 'origQty': '0.10000000',\n",
       " 'executedQty': '0.00000000',\n",
       " 'cummulativeQuoteQty': '0.00000000',\n",
       " 'status': 'NEW',\n",
       " 'timeInForce': 'GTC',\n",
       " 'type': 'LIMIT',\n",
       " 'side': 'BUY',\n",
       " 'stopPrice': '0.00000000',\n",
       " 'icebergQty': '0.00000000',\n",
       " 'time': 1674299958872,\n",
       " 'updateTime': 1674299958872,\n",
       " 'isWorking': True,\n",
       " 'workingTime': 1674299958872,\n",
       " 'origQuoteOrderQty': '0.00000000',\n",
       " 'selfTradePreventionMode': 'NONE'}"
      ]
     },
     "execution_count": 105,
     "metadata": {},
     "output_type": "execute_result"
    }
   ],
   "source": [
    "client.get_order(symbol = \"BTCUSDT\", orderId = order_id_buy)"
   ]
  },
  {
   "cell_type": "markdown",
   "id": "2a963e5c",
   "metadata": {},
   "source": [
    "__Limit Sell Order__"
   ]
  },
  {
   "cell_type": "code",
   "execution_count": 106,
   "id": "678fd273",
   "metadata": {},
   "outputs": [],
   "source": [
    "order2 = client.create_order(symbol=\"BTCUSDT\", side = \"SELL\", type = \"LIMIT\",\n",
    "                            quantity = 0.1, timeInForce = \"GTC\", price = 30000)"
   ]
  },
  {
   "cell_type": "code",
   "execution_count": 107,
   "id": "00b842a4",
   "metadata": {},
   "outputs": [
    {
     "data": {
      "text/plain": [
       "{'symbol': 'BTCUSDT',\n",
       " 'orderId': 10790677,\n",
       " 'orderListId': -1,\n",
       " 'clientOrderId': 'rmOADRUUIr1VFtoGeY7JUu',\n",
       " 'transactTime': 1674299963144,\n",
       " 'price': '30000.00000000',\n",
       " 'origQty': '0.10000000',\n",
       " 'executedQty': '0.00000000',\n",
       " 'cummulativeQuoteQty': '0.00000000',\n",
       " 'status': 'NEW',\n",
       " 'timeInForce': 'GTC',\n",
       " 'type': 'LIMIT',\n",
       " 'side': 'SELL',\n",
       " 'workingTime': 1674299963144,\n",
       " 'fills': [],\n",
       " 'selfTradePreventionMode': 'NONE'}"
      ]
     },
     "execution_count": 107,
     "metadata": {},
     "output_type": "execute_result"
    }
   ],
   "source": [
    "order2"
   ]
  },
  {
   "cell_type": "code",
   "execution_count": 108,
   "id": "b04f76b3",
   "metadata": {},
   "outputs": [
    {
     "data": {
      "text/plain": [
       "10790677"
      ]
     },
     "execution_count": 108,
     "metadata": {},
     "output_type": "execute_result"
    }
   ],
   "source": [
    "order_id_sell = order2[\"orderId\"]\n",
    "order_id_sell"
   ]
  },
  {
   "cell_type": "code",
   "execution_count": 109,
   "id": "a013347c",
   "metadata": {},
   "outputs": [
    {
     "data": {
      "text/plain": [
       "[{'symbol': 'BTCUSDT',\n",
       "  'orderId': 10787347,\n",
       "  'orderListId': -1,\n",
       "  'clientOrderId': 'Mocf14nkIlPMSwDM0ittTG',\n",
       "  'price': '60000.00000000',\n",
       "  'origQty': '0.10000000',\n",
       "  'executedQty': '0.00000000',\n",
       "  'cummulativeQuoteQty': '0.00000000',\n",
       "  'status': 'NEW',\n",
       "  'timeInForce': 'GTC',\n",
       "  'type': 'LIMIT',\n",
       "  'side': 'SELL',\n",
       "  'stopPrice': '0.00000000',\n",
       "  'icebergQty': '0.00000000',\n",
       "  'time': 1674299347091,\n",
       "  'updateTime': 1674299347091,\n",
       "  'isWorking': True,\n",
       "  'workingTime': 1674299347091,\n",
       "  'origQuoteOrderQty': '0.00000000',\n",
       "  'selfTradePreventionMode': 'NONE'},\n",
       " {'symbol': 'BTCUSDT',\n",
       "  'orderId': 10790119,\n",
       "  'orderListId': -1,\n",
       "  'clientOrderId': 'ZekhDzVs7kBuukF4vUp0Vm',\n",
       "  'price': '60000.00000000',\n",
       "  'origQty': '0.10000000',\n",
       "  'executedQty': '0.00000000',\n",
       "  'cummulativeQuoteQty': '0.00000000',\n",
       "  'status': 'NEW',\n",
       "  'timeInForce': 'GTC',\n",
       "  'type': 'LIMIT',\n",
       "  'side': 'SELL',\n",
       "  'stopPrice': '0.00000000',\n",
       "  'icebergQty': '0.00000000',\n",
       "  'time': 1674299860688,\n",
       "  'updateTime': 1674299860688,\n",
       "  'isWorking': True,\n",
       "  'workingTime': 1674299860688,\n",
       "  'origQuoteOrderQty': '0.00000000',\n",
       "  'selfTradePreventionMode': 'NONE'},\n",
       " {'symbol': 'BTCUSDT',\n",
       "  'orderId': 10790639,\n",
       "  'orderListId': -1,\n",
       "  'clientOrderId': 'CjS082aviZzGSOrBhmHy8i',\n",
       "  'price': '30000.00000000',\n",
       "  'origQty': '0.10000000',\n",
       "  'executedQty': '0.00000000',\n",
       "  'cummulativeQuoteQty': '0.00000000',\n",
       "  'status': 'NEW',\n",
       "  'timeInForce': 'GTC',\n",
       "  'type': 'LIMIT',\n",
       "  'side': 'SELL',\n",
       "  'stopPrice': '0.00000000',\n",
       "  'icebergQty': '0.00000000',\n",
       "  'time': 1674299955698,\n",
       "  'updateTime': 1674299955698,\n",
       "  'isWorking': True,\n",
       "  'workingTime': 1674299955698,\n",
       "  'origQuoteOrderQty': '0.00000000',\n",
       "  'selfTradePreventionMode': 'NONE'},\n",
       " {'symbol': 'BTCUSDT',\n",
       "  'orderId': 10790656,\n",
       "  'orderListId': -1,\n",
       "  'clientOrderId': 'AYDZCeQOSz45vu6vfTOXhE',\n",
       "  'price': '10000.00000000',\n",
       "  'origQty': '0.10000000',\n",
       "  'executedQty': '0.00000000',\n",
       "  'cummulativeQuoteQty': '0.00000000',\n",
       "  'status': 'NEW',\n",
       "  'timeInForce': 'GTC',\n",
       "  'type': 'LIMIT',\n",
       "  'side': 'BUY',\n",
       "  'stopPrice': '0.00000000',\n",
       "  'icebergQty': '0.00000000',\n",
       "  'time': 1674299958872,\n",
       "  'updateTime': 1674299958872,\n",
       "  'isWorking': True,\n",
       "  'workingTime': 1674299958872,\n",
       "  'origQuoteOrderQty': '0.00000000',\n",
       "  'selfTradePreventionMode': 'NONE'},\n",
       " {'symbol': 'BTCUSDT',\n",
       "  'orderId': 10790677,\n",
       "  'orderListId': -1,\n",
       "  'clientOrderId': 'rmOADRUUIr1VFtoGeY7JUu',\n",
       "  'price': '30000.00000000',\n",
       "  'origQty': '0.10000000',\n",
       "  'executedQty': '0.00000000',\n",
       "  'cummulativeQuoteQty': '0.00000000',\n",
       "  'status': 'NEW',\n",
       "  'timeInForce': 'GTC',\n",
       "  'type': 'LIMIT',\n",
       "  'side': 'SELL',\n",
       "  'stopPrice': '0.00000000',\n",
       "  'icebergQty': '0.00000000',\n",
       "  'time': 1674299963144,\n",
       "  'updateTime': 1674299963144,\n",
       "  'isWorking': True,\n",
       "  'workingTime': 1674299963144,\n",
       "  'origQuoteOrderQty': '0.00000000',\n",
       "  'selfTradePreventionMode': 'NONE'}]"
      ]
     },
     "execution_count": 109,
     "metadata": {},
     "output_type": "execute_result"
    }
   ],
   "source": [
    "open_orders = client.get_open_orders(symbol = \"BTCUSDT\")\n",
    "open_orders"
   ]
  },
  {
   "cell_type": "code",
   "execution_count": 110,
   "id": "e6f87f5d",
   "metadata": {},
   "outputs": [
    {
     "data": {
      "text/html": [
       "<div>\n",
       "<style scoped>\n",
       "    .dataframe tbody tr th:only-of-type {\n",
       "        vertical-align: middle;\n",
       "    }\n",
       "\n",
       "    .dataframe tbody tr th {\n",
       "        vertical-align: top;\n",
       "    }\n",
       "\n",
       "    .dataframe thead th {\n",
       "        text-align: right;\n",
       "    }\n",
       "</style>\n",
       "<table border=\"1\" class=\"dataframe\">\n",
       "  <thead>\n",
       "    <tr style=\"text-align: right;\">\n",
       "      <th></th>\n",
       "      <th>symbol</th>\n",
       "      <th>orderId</th>\n",
       "      <th>orderListId</th>\n",
       "      <th>clientOrderId</th>\n",
       "      <th>price</th>\n",
       "      <th>origQty</th>\n",
       "      <th>executedQty</th>\n",
       "      <th>cummulativeQuoteQty</th>\n",
       "      <th>status</th>\n",
       "      <th>timeInForce</th>\n",
       "      <th>type</th>\n",
       "      <th>side</th>\n",
       "      <th>stopPrice</th>\n",
       "      <th>icebergQty</th>\n",
       "      <th>time</th>\n",
       "      <th>updateTime</th>\n",
       "      <th>isWorking</th>\n",
       "      <th>workingTime</th>\n",
       "      <th>origQuoteOrderQty</th>\n",
       "      <th>selfTradePreventionMode</th>\n",
       "    </tr>\n",
       "  </thead>\n",
       "  <tbody>\n",
       "    <tr>\n",
       "      <th>0</th>\n",
       "      <td>BTCUSDT</td>\n",
       "      <td>10787347</td>\n",
       "      <td>-1</td>\n",
       "      <td>Mocf14nkIlPMSwDM0ittTG</td>\n",
       "      <td>60000.00000000</td>\n",
       "      <td>0.10000000</td>\n",
       "      <td>0.00000000</td>\n",
       "      <td>0.00000000</td>\n",
       "      <td>NEW</td>\n",
       "      <td>GTC</td>\n",
       "      <td>LIMIT</td>\n",
       "      <td>SELL</td>\n",
       "      <td>0.00000000</td>\n",
       "      <td>0.00000000</td>\n",
       "      <td>1674299347091</td>\n",
       "      <td>1674299347091</td>\n",
       "      <td>True</td>\n",
       "      <td>1674299347091</td>\n",
       "      <td>0.00000000</td>\n",
       "      <td>NONE</td>\n",
       "    </tr>\n",
       "    <tr>\n",
       "      <th>1</th>\n",
       "      <td>BTCUSDT</td>\n",
       "      <td>10790119</td>\n",
       "      <td>-1</td>\n",
       "      <td>ZekhDzVs7kBuukF4vUp0Vm</td>\n",
       "      <td>60000.00000000</td>\n",
       "      <td>0.10000000</td>\n",
       "      <td>0.00000000</td>\n",
       "      <td>0.00000000</td>\n",
       "      <td>NEW</td>\n",
       "      <td>GTC</td>\n",
       "      <td>LIMIT</td>\n",
       "      <td>SELL</td>\n",
       "      <td>0.00000000</td>\n",
       "      <td>0.00000000</td>\n",
       "      <td>1674299860688</td>\n",
       "      <td>1674299860688</td>\n",
       "      <td>True</td>\n",
       "      <td>1674299860688</td>\n",
       "      <td>0.00000000</td>\n",
       "      <td>NONE</td>\n",
       "    </tr>\n",
       "    <tr>\n",
       "      <th>2</th>\n",
       "      <td>BTCUSDT</td>\n",
       "      <td>10790639</td>\n",
       "      <td>-1</td>\n",
       "      <td>CjS082aviZzGSOrBhmHy8i</td>\n",
       "      <td>30000.00000000</td>\n",
       "      <td>0.10000000</td>\n",
       "      <td>0.00000000</td>\n",
       "      <td>0.00000000</td>\n",
       "      <td>NEW</td>\n",
       "      <td>GTC</td>\n",
       "      <td>LIMIT</td>\n",
       "      <td>SELL</td>\n",
       "      <td>0.00000000</td>\n",
       "      <td>0.00000000</td>\n",
       "      <td>1674299955698</td>\n",
       "      <td>1674299955698</td>\n",
       "      <td>True</td>\n",
       "      <td>1674299955698</td>\n",
       "      <td>0.00000000</td>\n",
       "      <td>NONE</td>\n",
       "    </tr>\n",
       "    <tr>\n",
       "      <th>3</th>\n",
       "      <td>BTCUSDT</td>\n",
       "      <td>10790656</td>\n",
       "      <td>-1</td>\n",
       "      <td>AYDZCeQOSz45vu6vfTOXhE</td>\n",
       "      <td>10000.00000000</td>\n",
       "      <td>0.10000000</td>\n",
       "      <td>0.00000000</td>\n",
       "      <td>0.00000000</td>\n",
       "      <td>NEW</td>\n",
       "      <td>GTC</td>\n",
       "      <td>LIMIT</td>\n",
       "      <td>BUY</td>\n",
       "      <td>0.00000000</td>\n",
       "      <td>0.00000000</td>\n",
       "      <td>1674299958872</td>\n",
       "      <td>1674299958872</td>\n",
       "      <td>True</td>\n",
       "      <td>1674299958872</td>\n",
       "      <td>0.00000000</td>\n",
       "      <td>NONE</td>\n",
       "    </tr>\n",
       "    <tr>\n",
       "      <th>4</th>\n",
       "      <td>BTCUSDT</td>\n",
       "      <td>10790677</td>\n",
       "      <td>-1</td>\n",
       "      <td>rmOADRUUIr1VFtoGeY7JUu</td>\n",
       "      <td>30000.00000000</td>\n",
       "      <td>0.10000000</td>\n",
       "      <td>0.00000000</td>\n",
       "      <td>0.00000000</td>\n",
       "      <td>NEW</td>\n",
       "      <td>GTC</td>\n",
       "      <td>LIMIT</td>\n",
       "      <td>SELL</td>\n",
       "      <td>0.00000000</td>\n",
       "      <td>0.00000000</td>\n",
       "      <td>1674299963144</td>\n",
       "      <td>1674299963144</td>\n",
       "      <td>True</td>\n",
       "      <td>1674299963144</td>\n",
       "      <td>0.00000000</td>\n",
       "      <td>NONE</td>\n",
       "    </tr>\n",
       "  </tbody>\n",
       "</table>\n",
       "</div>"
      ],
      "text/plain": [
       "    symbol   orderId  orderListId           clientOrderId           price  \\\n",
       "0  BTCUSDT  10787347           -1  Mocf14nkIlPMSwDM0ittTG  60000.00000000   \n",
       "1  BTCUSDT  10790119           -1  ZekhDzVs7kBuukF4vUp0Vm  60000.00000000   \n",
       "2  BTCUSDT  10790639           -1  CjS082aviZzGSOrBhmHy8i  30000.00000000   \n",
       "3  BTCUSDT  10790656           -1  AYDZCeQOSz45vu6vfTOXhE  10000.00000000   \n",
       "4  BTCUSDT  10790677           -1  rmOADRUUIr1VFtoGeY7JUu  30000.00000000   \n",
       "\n",
       "      origQty executedQty cummulativeQuoteQty status timeInForce   type  side  \\\n",
       "0  0.10000000  0.00000000          0.00000000    NEW         GTC  LIMIT  SELL   \n",
       "1  0.10000000  0.00000000          0.00000000    NEW         GTC  LIMIT  SELL   \n",
       "2  0.10000000  0.00000000          0.00000000    NEW         GTC  LIMIT  SELL   \n",
       "3  0.10000000  0.00000000          0.00000000    NEW         GTC  LIMIT   BUY   \n",
       "4  0.10000000  0.00000000          0.00000000    NEW         GTC  LIMIT  SELL   \n",
       "\n",
       "    stopPrice  icebergQty           time     updateTime  isWorking  \\\n",
       "0  0.00000000  0.00000000  1674299347091  1674299347091       True   \n",
       "1  0.00000000  0.00000000  1674299860688  1674299860688       True   \n",
       "2  0.00000000  0.00000000  1674299955698  1674299955698       True   \n",
       "3  0.00000000  0.00000000  1674299958872  1674299958872       True   \n",
       "4  0.00000000  0.00000000  1674299963144  1674299963144       True   \n",
       "\n",
       "     workingTime origQuoteOrderQty selfTradePreventionMode  \n",
       "0  1674299347091        0.00000000                    NONE  \n",
       "1  1674299860688        0.00000000                    NONE  \n",
       "2  1674299955698        0.00000000                    NONE  \n",
       "3  1674299958872        0.00000000                    NONE  \n",
       "4  1674299963144        0.00000000                    NONE  "
      ]
     },
     "execution_count": 110,
     "metadata": {},
     "output_type": "execute_result"
    }
   ],
   "source": [
    "pd.DataFrame(open_orders)"
   ]
  },
  {
   "cell_type": "code",
   "execution_count": 111,
   "id": "b5b186f8",
   "metadata": {},
   "outputs": [
    {
     "data": {
      "text/plain": [
       "{'symbol': 'BTCUSDT',\n",
       " 'origClientOrderId': 'AYDZCeQOSz45vu6vfTOXhE',\n",
       " 'orderId': 10790656,\n",
       " 'orderListId': -1,\n",
       " 'clientOrderId': 'OT1nBU9cqiPiXXl1fF8nRj',\n",
       " 'price': '10000.00000000',\n",
       " 'origQty': '0.10000000',\n",
       " 'executedQty': '0.00000000',\n",
       " 'cummulativeQuoteQty': '0.00000000',\n",
       " 'status': 'CANCELED',\n",
       " 'timeInForce': 'GTC',\n",
       " 'type': 'LIMIT',\n",
       " 'side': 'BUY',\n",
       " 'selfTradePreventionMode': 'NONE'}"
      ]
     },
     "execution_count": 111,
     "metadata": {},
     "output_type": "execute_result"
    }
   ],
   "source": [
    "result = client.cancel_order(symbol = \"BTCUSDT\", orderId = order_id_buy)\n",
    "result"
   ]
  },
  {
   "cell_type": "code",
   "execution_count": 112,
   "id": "23bbca55",
   "metadata": {},
   "outputs": [
    {
     "data": {
      "text/plain": [
       "{'symbol': 'BTCUSDT',\n",
       " 'origClientOrderId': 'rmOADRUUIr1VFtoGeY7JUu',\n",
       " 'orderId': 10790677,\n",
       " 'orderListId': -1,\n",
       " 'clientOrderId': 'xKcenlCB0262NjknPXTvxB',\n",
       " 'price': '30000.00000000',\n",
       " 'origQty': '0.10000000',\n",
       " 'executedQty': '0.00000000',\n",
       " 'cummulativeQuoteQty': '0.00000000',\n",
       " 'status': 'CANCELED',\n",
       " 'timeInForce': 'GTC',\n",
       " 'type': 'LIMIT',\n",
       " 'side': 'SELL',\n",
       " 'selfTradePreventionMode': 'NONE'}"
      ]
     },
     "execution_count": 112,
     "metadata": {},
     "output_type": "execute_result"
    }
   ],
   "source": [
    "result = client.cancel_order(symbol = \"BTCUSDT\", orderId = order_id_sell)\n",
    "result"
   ]
  },
  {
   "cell_type": "code",
   "execution_count": null,
   "id": "31e13603",
   "metadata": {},
   "outputs": [],
   "source": []
  },
  {
   "cell_type": "markdown",
   "id": "5f08c14e",
   "metadata": {},
   "source": [
    "## Reporting: Getting all (historical) Orders and Trades"
   ]
  },
  {
   "cell_type": "code",
   "execution_count": 113,
   "id": "6adf8bff",
   "metadata": {},
   "outputs": [],
   "source": [
    "from binance.client import Client\n",
    "import pandas as pd"
   ]
  },
  {
   "cell_type": "code",
   "execution_count": 114,
   "id": "86fdeb4f",
   "metadata": {},
   "outputs": [],
   "source": [
    "client = Client(api_key = api_key, api_secret = secret_key, tld = \"com\", testnet = True) "
   ]
  },
  {
   "cell_type": "code",
   "execution_count": 115,
   "id": "53564005",
   "metadata": {},
   "outputs": [
    {
     "data": {
      "text/plain": [
       "[{'symbol': 'BTCUSDT',\n",
       "  'orderId': 10787333,\n",
       "  'orderListId': -1,\n",
       "  'clientOrderId': 'd0ZGTa2R2CWRJj2VKoscpM',\n",
       "  'price': '0.00000000',\n",
       "  'origQty': '0.10000000',\n",
       "  'executedQty': '0.10000000',\n",
       "  'cummulativeQuoteQty': '2275.79385718',\n",
       "  'status': 'FILLED',\n",
       "  'timeInForce': 'GTC',\n",
       "  'type': 'MARKET',\n",
       "  'side': 'BUY',\n",
       "  'stopPrice': '0.00000000',\n",
       "  'icebergQty': '0.00000000',\n",
       "  'time': 1674299345028,\n",
       "  'updateTime': 1674299345028,\n",
       "  'isWorking': True,\n",
       "  'workingTime': 1674299345028,\n",
       "  'origQuoteOrderQty': '0.00000000',\n",
       "  'selfTradePreventionMode': 'NONE'},\n",
       " {'symbol': 'BTCUSDT',\n",
       "  'orderId': 10787338,\n",
       "  'orderListId': -1,\n",
       "  'clientOrderId': 'ZZvc1zs4z8NCbkD6OAmJab',\n",
       "  'price': '0.00000000',\n",
       "  'origQty': '0.04393500',\n",
       "  'executedQty': '0.04393500',\n",
       "  'cummulativeQuoteQty': '999.98740035',\n",
       "  'status': 'FILLED',\n",
       "  'timeInForce': 'GTC',\n",
       "  'type': 'MARKET',\n",
       "  'side': 'BUY',\n",
       "  'stopPrice': '0.00000000',\n",
       "  'icebergQty': '0.00000000',\n",
       "  'time': 1674299345719,\n",
       "  'updateTime': 1674299345719,\n",
       "  'isWorking': True,\n",
       "  'workingTime': 1674299345719,\n",
       "  'origQuoteOrderQty': '1000.00000000',\n",
       "  'selfTradePreventionMode': 'NONE'},\n",
       " {'symbol': 'BTCUSDT',\n",
       "  'orderId': 10787341,\n",
       "  'orderListId': -1,\n",
       "  'clientOrderId': '6o3ZccoTlisIXc2rBIss2z',\n",
       "  'price': '0.00000000',\n",
       "  'origQty': '0.10000000',\n",
       "  'executedQty': '0.10000000',\n",
       "  'cummulativeQuoteQty': '2275.70500000',\n",
       "  'status': 'FILLED',\n",
       "  'timeInForce': 'GTC',\n",
       "  'type': 'MARKET',\n",
       "  'side': 'SELL',\n",
       "  'stopPrice': '0.00000000',\n",
       "  'icebergQty': '0.00000000',\n",
       "  'time': 1674299346045,\n",
       "  'updateTime': 1674299346045,\n",
       "  'isWorking': True,\n",
       "  'workingTime': 1674299346045,\n",
       "  'origQuoteOrderQty': '0.00000000',\n",
       "  'selfTradePreventionMode': 'NONE'},\n",
       " {'symbol': 'BTCUSDT',\n",
       "  'orderId': 10787346,\n",
       "  'orderListId': -1,\n",
       "  'clientOrderId': 'PgcBNVqa7H1ZtBjMVBwL7i',\n",
       "  'price': '50000.00000000',\n",
       "  'origQty': '0.10000000',\n",
       "  'executedQty': '0.10000000',\n",
       "  'cummulativeQuoteQty': '2276.24560608',\n",
       "  'status': 'FILLED',\n",
       "  'timeInForce': 'GTC',\n",
       "  'type': 'LIMIT',\n",
       "  'side': 'BUY',\n",
       "  'stopPrice': '0.00000000',\n",
       "  'icebergQty': '0.00000000',\n",
       "  'time': 1674299346757,\n",
       "  'updateTime': 1674299346757,\n",
       "  'isWorking': True,\n",
       "  'workingTime': 1674299346757,\n",
       "  'origQuoteOrderQty': '0.00000000',\n",
       "  'selfTradePreventionMode': 'NONE'},\n",
       " {'symbol': 'BTCUSDT',\n",
       "  'orderId': 10787347,\n",
       "  'orderListId': -1,\n",
       "  'clientOrderId': 'Mocf14nkIlPMSwDM0ittTG',\n",
       "  'price': '60000.00000000',\n",
       "  'origQty': '0.10000000',\n",
       "  'executedQty': '0.00000000',\n",
       "  'cummulativeQuoteQty': '0.00000000',\n",
       "  'status': 'NEW',\n",
       "  'timeInForce': 'GTC',\n",
       "  'type': 'LIMIT',\n",
       "  'side': 'SELL',\n",
       "  'stopPrice': '0.00000000',\n",
       "  'icebergQty': '0.00000000',\n",
       "  'time': 1674299347091,\n",
       "  'updateTime': 1674299347091,\n",
       "  'isWorking': True,\n",
       "  'workingTime': 1674299347091,\n",
       "  'origQuoteOrderQty': '0.00000000',\n",
       "  'selfTradePreventionMode': 'NONE'},\n",
       " {'symbol': 'BTCUSDT',\n",
       "  'orderId': 10789823,\n",
       "  'orderListId': -1,\n",
       "  'clientOrderId': 'tn3DL3xIl7FxWklGWAiYl4',\n",
       "  'price': '60000.00000000',\n",
       "  'origQty': '0.10000000',\n",
       "  'executedQty': '0.00000000',\n",
       "  'cummulativeQuoteQty': '0.00000000',\n",
       "  'status': 'CANCELED',\n",
       "  'timeInForce': 'GTC',\n",
       "  'type': 'LIMIT',\n",
       "  'side': 'SELL',\n",
       "  'stopPrice': '0.00000000',\n",
       "  'icebergQty': '0.00000000',\n",
       "  'time': 1674299806965,\n",
       "  'updateTime': 1674299816644,\n",
       "  'isWorking': True,\n",
       "  'workingTime': 1674299806965,\n",
       "  'origQuoteOrderQty': '0.00000000',\n",
       "  'selfTradePreventionMode': 'NONE'},\n",
       " {'symbol': 'BTCUSDT',\n",
       "  'orderId': 10790086,\n",
       "  'orderListId': -1,\n",
       "  'clientOrderId': 'gFnYZ7HJhYH7zGNZUWBVvR',\n",
       "  'price': '50000.00000000',\n",
       "  'origQty': '0.10000000',\n",
       "  'executedQty': '0.10000000',\n",
       "  'cummulativeQuoteQty': '2271.92630944',\n",
       "  'status': 'FILLED',\n",
       "  'timeInForce': 'GTC',\n",
       "  'type': 'LIMIT',\n",
       "  'side': 'BUY',\n",
       "  'stopPrice': '0.00000000',\n",
       "  'icebergQty': '0.00000000',\n",
       "  'time': 1674299855142,\n",
       "  'updateTime': 1674299855142,\n",
       "  'isWorking': True,\n",
       "  'workingTime': 1674299855142,\n",
       "  'origQuoteOrderQty': '0.00000000',\n",
       "  'selfTradePreventionMode': 'NONE'},\n",
       " {'symbol': 'BTCUSDT',\n",
       "  'orderId': 10790119,\n",
       "  'orderListId': -1,\n",
       "  'clientOrderId': 'ZekhDzVs7kBuukF4vUp0Vm',\n",
       "  'price': '60000.00000000',\n",
       "  'origQty': '0.10000000',\n",
       "  'executedQty': '0.00000000',\n",
       "  'cummulativeQuoteQty': '0.00000000',\n",
       "  'status': 'NEW',\n",
       "  'timeInForce': 'GTC',\n",
       "  'type': 'LIMIT',\n",
       "  'side': 'SELL',\n",
       "  'stopPrice': '0.00000000',\n",
       "  'icebergQty': '0.00000000',\n",
       "  'time': 1674299860688,\n",
       "  'updateTime': 1674299860688,\n",
       "  'isWorking': True,\n",
       "  'workingTime': 1674299860688,\n",
       "  'origQuoteOrderQty': '0.00000000',\n",
       "  'selfTradePreventionMode': 'NONE'},\n",
       " {'symbol': 'BTCUSDT',\n",
       "  'orderId': 10790493,\n",
       "  'orderListId': -1,\n",
       "  'clientOrderId': 'KCAXDl841b3OETqRdttvRD',\n",
       "  'price': '10000.00000000',\n",
       "  'origQty': '0.10000000',\n",
       "  'executedQty': '0.00000000',\n",
       "  'cummulativeQuoteQty': '0.00000000',\n",
       "  'status': 'CANCELED',\n",
       "  'timeInForce': 'GTC',\n",
       "  'type': 'LIMIT',\n",
       "  'side': 'BUY',\n",
       "  'stopPrice': '0.00000000',\n",
       "  'icebergQty': '0.00000000',\n",
       "  'time': 1674299929454,\n",
       "  'updateTime': 1674299940917,\n",
       "  'isWorking': True,\n",
       "  'workingTime': 1674299929454,\n",
       "  'origQuoteOrderQty': '0.00000000',\n",
       "  'selfTradePreventionMode': 'NONE'},\n",
       " {'symbol': 'BTCUSDT',\n",
       "  'orderId': 10790519,\n",
       "  'orderListId': -1,\n",
       "  'clientOrderId': 'XVumQtTGHuUSlTl8QKGGg1',\n",
       "  'price': '20000.00000000',\n",
       "  'origQty': '0.10000000',\n",
       "  'executedQty': '0.10000000',\n",
       "  'cummulativeQuoteQty': '2268.71200000',\n",
       "  'status': 'FILLED',\n",
       "  'timeInForce': 'GTC',\n",
       "  'type': 'LIMIT',\n",
       "  'side': 'SELL',\n",
       "  'stopPrice': '0.00000000',\n",
       "  'icebergQty': '0.00000000',\n",
       "  'time': 1674299934444,\n",
       "  'updateTime': 1674299934444,\n",
       "  'isWorking': True,\n",
       "  'workingTime': 1674299934444,\n",
       "  'origQuoteOrderQty': '0.00000000',\n",
       "  'selfTradePreventionMode': 'NONE'},\n",
       " {'symbol': 'BTCUSDT',\n",
       "  'orderId': 10790639,\n",
       "  'orderListId': -1,\n",
       "  'clientOrderId': 'CjS082aviZzGSOrBhmHy8i',\n",
       "  'price': '30000.00000000',\n",
       "  'origQty': '0.10000000',\n",
       "  'executedQty': '0.00000000',\n",
       "  'cummulativeQuoteQty': '0.00000000',\n",
       "  'status': 'NEW',\n",
       "  'timeInForce': 'GTC',\n",
       "  'type': 'LIMIT',\n",
       "  'side': 'SELL',\n",
       "  'stopPrice': '0.00000000',\n",
       "  'icebergQty': '0.00000000',\n",
       "  'time': 1674299955698,\n",
       "  'updateTime': 1674299955698,\n",
       "  'isWorking': True,\n",
       "  'workingTime': 1674299955698,\n",
       "  'origQuoteOrderQty': '0.00000000',\n",
       "  'selfTradePreventionMode': 'NONE'},\n",
       " {'symbol': 'BTCUSDT',\n",
       "  'orderId': 10790656,\n",
       "  'orderListId': -1,\n",
       "  'clientOrderId': 'AYDZCeQOSz45vu6vfTOXhE',\n",
       "  'price': '10000.00000000',\n",
       "  'origQty': '0.10000000',\n",
       "  'executedQty': '0.00000000',\n",
       "  'cummulativeQuoteQty': '0.00000000',\n",
       "  'status': 'CANCELED',\n",
       "  'timeInForce': 'GTC',\n",
       "  'type': 'LIMIT',\n",
       "  'side': 'BUY',\n",
       "  'stopPrice': '0.00000000',\n",
       "  'icebergQty': '0.00000000',\n",
       "  'time': 1674299958872,\n",
       "  'updateTime': 1674299967920,\n",
       "  'isWorking': True,\n",
       "  'workingTime': 1674299958872,\n",
       "  'origQuoteOrderQty': '0.00000000',\n",
       "  'selfTradePreventionMode': 'NONE'},\n",
       " {'symbol': 'BTCUSDT',\n",
       "  'orderId': 10790677,\n",
       "  'orderListId': -1,\n",
       "  'clientOrderId': 'rmOADRUUIr1VFtoGeY7JUu',\n",
       "  'price': '30000.00000000',\n",
       "  'origQty': '0.10000000',\n",
       "  'executedQty': '0.00000000',\n",
       "  'cummulativeQuoteQty': '0.00000000',\n",
       "  'status': 'CANCELED',\n",
       "  'timeInForce': 'GTC',\n",
       "  'type': 'LIMIT',\n",
       "  'side': 'SELL',\n",
       "  'stopPrice': '0.00000000',\n",
       "  'icebergQty': '0.00000000',\n",
       "  'time': 1674299963144,\n",
       "  'updateTime': 1674299969118,\n",
       "  'isWorking': True,\n",
       "  'workingTime': 1674299963144,\n",
       "  'origQuoteOrderQty': '0.00000000',\n",
       "  'selfTradePreventionMode': 'NONE'}]"
      ]
     },
     "execution_count": 115,
     "metadata": {},
     "output_type": "execute_result"
    }
   ],
   "source": [
    "all_orders = client.get_all_orders(symbol = \"BTCUSDT\")\n",
    "all_orders"
   ]
  },
  {
   "cell_type": "code",
   "execution_count": 116,
   "id": "345caac2",
   "metadata": {},
   "outputs": [
    {
     "data": {
      "text/html": [
       "<div>\n",
       "<style scoped>\n",
       "    .dataframe tbody tr th:only-of-type {\n",
       "        vertical-align: middle;\n",
       "    }\n",
       "\n",
       "    .dataframe tbody tr th {\n",
       "        vertical-align: top;\n",
       "    }\n",
       "\n",
       "    .dataframe thead th {\n",
       "        text-align: right;\n",
       "    }\n",
       "</style>\n",
       "<table border=\"1\" class=\"dataframe\">\n",
       "  <thead>\n",
       "    <tr style=\"text-align: right;\">\n",
       "      <th></th>\n",
       "      <th>symbol</th>\n",
       "      <th>orderId</th>\n",
       "      <th>orderListId</th>\n",
       "      <th>clientOrderId</th>\n",
       "      <th>price</th>\n",
       "      <th>origQty</th>\n",
       "      <th>executedQty</th>\n",
       "      <th>cummulativeQuoteQty</th>\n",
       "      <th>status</th>\n",
       "      <th>timeInForce</th>\n",
       "      <th>type</th>\n",
       "      <th>side</th>\n",
       "      <th>stopPrice</th>\n",
       "      <th>icebergQty</th>\n",
       "      <th>time</th>\n",
       "      <th>updateTime</th>\n",
       "      <th>isWorking</th>\n",
       "      <th>workingTime</th>\n",
       "      <th>origQuoteOrderQty</th>\n",
       "      <th>selfTradePreventionMode</th>\n",
       "    </tr>\n",
       "  </thead>\n",
       "  <tbody>\n",
       "    <tr>\n",
       "      <th>0</th>\n",
       "      <td>BTCUSDT</td>\n",
       "      <td>10787333</td>\n",
       "      <td>-1</td>\n",
       "      <td>d0ZGTa2R2CWRJj2VKoscpM</td>\n",
       "      <td>0.00000000</td>\n",
       "      <td>0.10000000</td>\n",
       "      <td>0.10000000</td>\n",
       "      <td>2275.79385718</td>\n",
       "      <td>FILLED</td>\n",
       "      <td>GTC</td>\n",
       "      <td>MARKET</td>\n",
       "      <td>BUY</td>\n",
       "      <td>0.00000000</td>\n",
       "      <td>0.00000000</td>\n",
       "      <td>1674299345028</td>\n",
       "      <td>1674299345028</td>\n",
       "      <td>True</td>\n",
       "      <td>1674299345028</td>\n",
       "      <td>0.00000000</td>\n",
       "      <td>NONE</td>\n",
       "    </tr>\n",
       "    <tr>\n",
       "      <th>1</th>\n",
       "      <td>BTCUSDT</td>\n",
       "      <td>10787338</td>\n",
       "      <td>-1</td>\n",
       "      <td>ZZvc1zs4z8NCbkD6OAmJab</td>\n",
       "      <td>0.00000000</td>\n",
       "      <td>0.04393500</td>\n",
       "      <td>0.04393500</td>\n",
       "      <td>999.98740035</td>\n",
       "      <td>FILLED</td>\n",
       "      <td>GTC</td>\n",
       "      <td>MARKET</td>\n",
       "      <td>BUY</td>\n",
       "      <td>0.00000000</td>\n",
       "      <td>0.00000000</td>\n",
       "      <td>1674299345719</td>\n",
       "      <td>1674299345719</td>\n",
       "      <td>True</td>\n",
       "      <td>1674299345719</td>\n",
       "      <td>1000.00000000</td>\n",
       "      <td>NONE</td>\n",
       "    </tr>\n",
       "    <tr>\n",
       "      <th>2</th>\n",
       "      <td>BTCUSDT</td>\n",
       "      <td>10787341</td>\n",
       "      <td>-1</td>\n",
       "      <td>6o3ZccoTlisIXc2rBIss2z</td>\n",
       "      <td>0.00000000</td>\n",
       "      <td>0.10000000</td>\n",
       "      <td>0.10000000</td>\n",
       "      <td>2275.70500000</td>\n",
       "      <td>FILLED</td>\n",
       "      <td>GTC</td>\n",
       "      <td>MARKET</td>\n",
       "      <td>SELL</td>\n",
       "      <td>0.00000000</td>\n",
       "      <td>0.00000000</td>\n",
       "      <td>1674299346045</td>\n",
       "      <td>1674299346045</td>\n",
       "      <td>True</td>\n",
       "      <td>1674299346045</td>\n",
       "      <td>0.00000000</td>\n",
       "      <td>NONE</td>\n",
       "    </tr>\n",
       "    <tr>\n",
       "      <th>3</th>\n",
       "      <td>BTCUSDT</td>\n",
       "      <td>10787346</td>\n",
       "      <td>-1</td>\n",
       "      <td>PgcBNVqa7H1ZtBjMVBwL7i</td>\n",
       "      <td>50000.00000000</td>\n",
       "      <td>0.10000000</td>\n",
       "      <td>0.10000000</td>\n",
       "      <td>2276.24560608</td>\n",
       "      <td>FILLED</td>\n",
       "      <td>GTC</td>\n",
       "      <td>LIMIT</td>\n",
       "      <td>BUY</td>\n",
       "      <td>0.00000000</td>\n",
       "      <td>0.00000000</td>\n",
       "      <td>1674299346757</td>\n",
       "      <td>1674299346757</td>\n",
       "      <td>True</td>\n",
       "      <td>1674299346757</td>\n",
       "      <td>0.00000000</td>\n",
       "      <td>NONE</td>\n",
       "    </tr>\n",
       "    <tr>\n",
       "      <th>4</th>\n",
       "      <td>BTCUSDT</td>\n",
       "      <td>10787347</td>\n",
       "      <td>-1</td>\n",
       "      <td>Mocf14nkIlPMSwDM0ittTG</td>\n",
       "      <td>60000.00000000</td>\n",
       "      <td>0.10000000</td>\n",
       "      <td>0.00000000</td>\n",
       "      <td>0.00000000</td>\n",
       "      <td>NEW</td>\n",
       "      <td>GTC</td>\n",
       "      <td>LIMIT</td>\n",
       "      <td>SELL</td>\n",
       "      <td>0.00000000</td>\n",
       "      <td>0.00000000</td>\n",
       "      <td>1674299347091</td>\n",
       "      <td>1674299347091</td>\n",
       "      <td>True</td>\n",
       "      <td>1674299347091</td>\n",
       "      <td>0.00000000</td>\n",
       "      <td>NONE</td>\n",
       "    </tr>\n",
       "    <tr>\n",
       "      <th>5</th>\n",
       "      <td>BTCUSDT</td>\n",
       "      <td>10789823</td>\n",
       "      <td>-1</td>\n",
       "      <td>tn3DL3xIl7FxWklGWAiYl4</td>\n",
       "      <td>60000.00000000</td>\n",
       "      <td>0.10000000</td>\n",
       "      <td>0.00000000</td>\n",
       "      <td>0.00000000</td>\n",
       "      <td>CANCELED</td>\n",
       "      <td>GTC</td>\n",
       "      <td>LIMIT</td>\n",
       "      <td>SELL</td>\n",
       "      <td>0.00000000</td>\n",
       "      <td>0.00000000</td>\n",
       "      <td>1674299806965</td>\n",
       "      <td>1674299816644</td>\n",
       "      <td>True</td>\n",
       "      <td>1674299806965</td>\n",
       "      <td>0.00000000</td>\n",
       "      <td>NONE</td>\n",
       "    </tr>\n",
       "    <tr>\n",
       "      <th>6</th>\n",
       "      <td>BTCUSDT</td>\n",
       "      <td>10790086</td>\n",
       "      <td>-1</td>\n",
       "      <td>gFnYZ7HJhYH7zGNZUWBVvR</td>\n",
       "      <td>50000.00000000</td>\n",
       "      <td>0.10000000</td>\n",
       "      <td>0.10000000</td>\n",
       "      <td>2271.92630944</td>\n",
       "      <td>FILLED</td>\n",
       "      <td>GTC</td>\n",
       "      <td>LIMIT</td>\n",
       "      <td>BUY</td>\n",
       "      <td>0.00000000</td>\n",
       "      <td>0.00000000</td>\n",
       "      <td>1674299855142</td>\n",
       "      <td>1674299855142</td>\n",
       "      <td>True</td>\n",
       "      <td>1674299855142</td>\n",
       "      <td>0.00000000</td>\n",
       "      <td>NONE</td>\n",
       "    </tr>\n",
       "    <tr>\n",
       "      <th>7</th>\n",
       "      <td>BTCUSDT</td>\n",
       "      <td>10790119</td>\n",
       "      <td>-1</td>\n",
       "      <td>ZekhDzVs7kBuukF4vUp0Vm</td>\n",
       "      <td>60000.00000000</td>\n",
       "      <td>0.10000000</td>\n",
       "      <td>0.00000000</td>\n",
       "      <td>0.00000000</td>\n",
       "      <td>NEW</td>\n",
       "      <td>GTC</td>\n",
       "      <td>LIMIT</td>\n",
       "      <td>SELL</td>\n",
       "      <td>0.00000000</td>\n",
       "      <td>0.00000000</td>\n",
       "      <td>1674299860688</td>\n",
       "      <td>1674299860688</td>\n",
       "      <td>True</td>\n",
       "      <td>1674299860688</td>\n",
       "      <td>0.00000000</td>\n",
       "      <td>NONE</td>\n",
       "    </tr>\n",
       "    <tr>\n",
       "      <th>8</th>\n",
       "      <td>BTCUSDT</td>\n",
       "      <td>10790493</td>\n",
       "      <td>-1</td>\n",
       "      <td>KCAXDl841b3OETqRdttvRD</td>\n",
       "      <td>10000.00000000</td>\n",
       "      <td>0.10000000</td>\n",
       "      <td>0.00000000</td>\n",
       "      <td>0.00000000</td>\n",
       "      <td>CANCELED</td>\n",
       "      <td>GTC</td>\n",
       "      <td>LIMIT</td>\n",
       "      <td>BUY</td>\n",
       "      <td>0.00000000</td>\n",
       "      <td>0.00000000</td>\n",
       "      <td>1674299929454</td>\n",
       "      <td>1674299940917</td>\n",
       "      <td>True</td>\n",
       "      <td>1674299929454</td>\n",
       "      <td>0.00000000</td>\n",
       "      <td>NONE</td>\n",
       "    </tr>\n",
       "    <tr>\n",
       "      <th>9</th>\n",
       "      <td>BTCUSDT</td>\n",
       "      <td>10790519</td>\n",
       "      <td>-1</td>\n",
       "      <td>XVumQtTGHuUSlTl8QKGGg1</td>\n",
       "      <td>20000.00000000</td>\n",
       "      <td>0.10000000</td>\n",
       "      <td>0.10000000</td>\n",
       "      <td>2268.71200000</td>\n",
       "      <td>FILLED</td>\n",
       "      <td>GTC</td>\n",
       "      <td>LIMIT</td>\n",
       "      <td>SELL</td>\n",
       "      <td>0.00000000</td>\n",
       "      <td>0.00000000</td>\n",
       "      <td>1674299934444</td>\n",
       "      <td>1674299934444</td>\n",
       "      <td>True</td>\n",
       "      <td>1674299934444</td>\n",
       "      <td>0.00000000</td>\n",
       "      <td>NONE</td>\n",
       "    </tr>\n",
       "    <tr>\n",
       "      <th>10</th>\n",
       "      <td>BTCUSDT</td>\n",
       "      <td>10790639</td>\n",
       "      <td>-1</td>\n",
       "      <td>CjS082aviZzGSOrBhmHy8i</td>\n",
       "      <td>30000.00000000</td>\n",
       "      <td>0.10000000</td>\n",
       "      <td>0.00000000</td>\n",
       "      <td>0.00000000</td>\n",
       "      <td>NEW</td>\n",
       "      <td>GTC</td>\n",
       "      <td>LIMIT</td>\n",
       "      <td>SELL</td>\n",
       "      <td>0.00000000</td>\n",
       "      <td>0.00000000</td>\n",
       "      <td>1674299955698</td>\n",
       "      <td>1674299955698</td>\n",
       "      <td>True</td>\n",
       "      <td>1674299955698</td>\n",
       "      <td>0.00000000</td>\n",
       "      <td>NONE</td>\n",
       "    </tr>\n",
       "    <tr>\n",
       "      <th>11</th>\n",
       "      <td>BTCUSDT</td>\n",
       "      <td>10790656</td>\n",
       "      <td>-1</td>\n",
       "      <td>AYDZCeQOSz45vu6vfTOXhE</td>\n",
       "      <td>10000.00000000</td>\n",
       "      <td>0.10000000</td>\n",
       "      <td>0.00000000</td>\n",
       "      <td>0.00000000</td>\n",
       "      <td>CANCELED</td>\n",
       "      <td>GTC</td>\n",
       "      <td>LIMIT</td>\n",
       "      <td>BUY</td>\n",
       "      <td>0.00000000</td>\n",
       "      <td>0.00000000</td>\n",
       "      <td>1674299958872</td>\n",
       "      <td>1674299967920</td>\n",
       "      <td>True</td>\n",
       "      <td>1674299958872</td>\n",
       "      <td>0.00000000</td>\n",
       "      <td>NONE</td>\n",
       "    </tr>\n",
       "    <tr>\n",
       "      <th>12</th>\n",
       "      <td>BTCUSDT</td>\n",
       "      <td>10790677</td>\n",
       "      <td>-1</td>\n",
       "      <td>rmOADRUUIr1VFtoGeY7JUu</td>\n",
       "      <td>30000.00000000</td>\n",
       "      <td>0.10000000</td>\n",
       "      <td>0.00000000</td>\n",
       "      <td>0.00000000</td>\n",
       "      <td>CANCELED</td>\n",
       "      <td>GTC</td>\n",
       "      <td>LIMIT</td>\n",
       "      <td>SELL</td>\n",
       "      <td>0.00000000</td>\n",
       "      <td>0.00000000</td>\n",
       "      <td>1674299963144</td>\n",
       "      <td>1674299969118</td>\n",
       "      <td>True</td>\n",
       "      <td>1674299963144</td>\n",
       "      <td>0.00000000</td>\n",
       "      <td>NONE</td>\n",
       "    </tr>\n",
       "  </tbody>\n",
       "</table>\n",
       "</div>"
      ],
      "text/plain": [
       "     symbol   orderId  orderListId           clientOrderId           price  \\\n",
       "0   BTCUSDT  10787333           -1  d0ZGTa2R2CWRJj2VKoscpM      0.00000000   \n",
       "1   BTCUSDT  10787338           -1  ZZvc1zs4z8NCbkD6OAmJab      0.00000000   \n",
       "2   BTCUSDT  10787341           -1  6o3ZccoTlisIXc2rBIss2z      0.00000000   \n",
       "3   BTCUSDT  10787346           -1  PgcBNVqa7H1ZtBjMVBwL7i  50000.00000000   \n",
       "4   BTCUSDT  10787347           -1  Mocf14nkIlPMSwDM0ittTG  60000.00000000   \n",
       "5   BTCUSDT  10789823           -1  tn3DL3xIl7FxWklGWAiYl4  60000.00000000   \n",
       "6   BTCUSDT  10790086           -1  gFnYZ7HJhYH7zGNZUWBVvR  50000.00000000   \n",
       "7   BTCUSDT  10790119           -1  ZekhDzVs7kBuukF4vUp0Vm  60000.00000000   \n",
       "8   BTCUSDT  10790493           -1  KCAXDl841b3OETqRdttvRD  10000.00000000   \n",
       "9   BTCUSDT  10790519           -1  XVumQtTGHuUSlTl8QKGGg1  20000.00000000   \n",
       "10  BTCUSDT  10790639           -1  CjS082aviZzGSOrBhmHy8i  30000.00000000   \n",
       "11  BTCUSDT  10790656           -1  AYDZCeQOSz45vu6vfTOXhE  10000.00000000   \n",
       "12  BTCUSDT  10790677           -1  rmOADRUUIr1VFtoGeY7JUu  30000.00000000   \n",
       "\n",
       "       origQty executedQty cummulativeQuoteQty    status timeInForce    type  \\\n",
       "0   0.10000000  0.10000000       2275.79385718    FILLED         GTC  MARKET   \n",
       "1   0.04393500  0.04393500        999.98740035    FILLED         GTC  MARKET   \n",
       "2   0.10000000  0.10000000       2275.70500000    FILLED         GTC  MARKET   \n",
       "3   0.10000000  0.10000000       2276.24560608    FILLED         GTC   LIMIT   \n",
       "4   0.10000000  0.00000000          0.00000000       NEW         GTC   LIMIT   \n",
       "5   0.10000000  0.00000000          0.00000000  CANCELED         GTC   LIMIT   \n",
       "6   0.10000000  0.10000000       2271.92630944    FILLED         GTC   LIMIT   \n",
       "7   0.10000000  0.00000000          0.00000000       NEW         GTC   LIMIT   \n",
       "8   0.10000000  0.00000000          0.00000000  CANCELED         GTC   LIMIT   \n",
       "9   0.10000000  0.10000000       2268.71200000    FILLED         GTC   LIMIT   \n",
       "10  0.10000000  0.00000000          0.00000000       NEW         GTC   LIMIT   \n",
       "11  0.10000000  0.00000000          0.00000000  CANCELED         GTC   LIMIT   \n",
       "12  0.10000000  0.00000000          0.00000000  CANCELED         GTC   LIMIT   \n",
       "\n",
       "    side   stopPrice  icebergQty           time     updateTime  isWorking  \\\n",
       "0    BUY  0.00000000  0.00000000  1674299345028  1674299345028       True   \n",
       "1    BUY  0.00000000  0.00000000  1674299345719  1674299345719       True   \n",
       "2   SELL  0.00000000  0.00000000  1674299346045  1674299346045       True   \n",
       "3    BUY  0.00000000  0.00000000  1674299346757  1674299346757       True   \n",
       "4   SELL  0.00000000  0.00000000  1674299347091  1674299347091       True   \n",
       "5   SELL  0.00000000  0.00000000  1674299806965  1674299816644       True   \n",
       "6    BUY  0.00000000  0.00000000  1674299855142  1674299855142       True   \n",
       "7   SELL  0.00000000  0.00000000  1674299860688  1674299860688       True   \n",
       "8    BUY  0.00000000  0.00000000  1674299929454  1674299940917       True   \n",
       "9   SELL  0.00000000  0.00000000  1674299934444  1674299934444       True   \n",
       "10  SELL  0.00000000  0.00000000  1674299955698  1674299955698       True   \n",
       "11   BUY  0.00000000  0.00000000  1674299958872  1674299967920       True   \n",
       "12  SELL  0.00000000  0.00000000  1674299963144  1674299969118       True   \n",
       "\n",
       "      workingTime origQuoteOrderQty selfTradePreventionMode  \n",
       "0   1674299345028        0.00000000                    NONE  \n",
       "1   1674299345719     1000.00000000                    NONE  \n",
       "2   1674299346045        0.00000000                    NONE  \n",
       "3   1674299346757        0.00000000                    NONE  \n",
       "4   1674299347091        0.00000000                    NONE  \n",
       "5   1674299806965        0.00000000                    NONE  \n",
       "6   1674299855142        0.00000000                    NONE  \n",
       "7   1674299860688        0.00000000                    NONE  \n",
       "8   1674299929454        0.00000000                    NONE  \n",
       "9   1674299934444        0.00000000                    NONE  \n",
       "10  1674299955698        0.00000000                    NONE  \n",
       "11  1674299958872        0.00000000                    NONE  \n",
       "12  1674299963144        0.00000000                    NONE  "
      ]
     },
     "execution_count": 116,
     "metadata": {},
     "output_type": "execute_result"
    }
   ],
   "source": [
    "pd.DataFrame(all_orders)"
   ]
  },
  {
   "cell_type": "code",
   "execution_count": 117,
   "id": "227575f4",
   "metadata": {},
   "outputs": [
    {
     "data": {
      "text/plain": [
       "[{'symbol': 'BTCUSDT',\n",
       "  'id': 2834577,\n",
       "  'orderId': 10787333,\n",
       "  'orderListId': -1,\n",
       "  'price': '22757.93000000',\n",
       "  'qty': '0.05714100',\n",
       "  'quoteQty': '1300.41087813',\n",
       "  'commission': '0.00000000',\n",
       "  'commissionAsset': 'BTC',\n",
       "  'time': 1674299345028,\n",
       "  'isBuyer': True,\n",
       "  'isMaker': False,\n",
       "  'isBestMatch': True},\n",
       " {'symbol': 'BTCUSDT',\n",
       "  'id': 2834578,\n",
       "  'orderId': 10787333,\n",
       "  'orderListId': -1,\n",
       "  'price': '22757.95000000',\n",
       "  'qty': '0.04285900',\n",
       "  'quoteQty': '975.38297905',\n",
       "  'commission': '0.00000000',\n",
       "  'commissionAsset': 'BTC',\n",
       "  'time': 1674299345028,\n",
       "  'isBuyer': True,\n",
       "  'isMaker': False,\n",
       "  'isBestMatch': True},\n",
       " {'symbol': 'BTCUSDT',\n",
       "  'id': 2834585,\n",
       "  'orderId': 10787338,\n",
       "  'orderListId': -1,\n",
       "  'price': '22760.61000000',\n",
       "  'qty': '0.04393500',\n",
       "  'quoteQty': '999.98740035',\n",
       "  'commission': '0.00000000',\n",
       "  'commissionAsset': 'BTC',\n",
       "  'time': 1674299345719,\n",
       "  'isBuyer': True,\n",
       "  'isMaker': False,\n",
       "  'isBestMatch': True},\n",
       " {'symbol': 'BTCUSDT',\n",
       "  'id': 2834586,\n",
       "  'orderId': 10787341,\n",
       "  'orderListId': -1,\n",
       "  'price': '22757.85000000',\n",
       "  'qty': '0.02000000',\n",
       "  'quoteQty': '455.15700000',\n",
       "  'commission': '0.00000000',\n",
       "  'commissionAsset': 'USDT',\n",
       "  'time': 1674299346045,\n",
       "  'isBuyer': False,\n",
       "  'isMaker': False,\n",
       "  'isBestMatch': True},\n",
       " {'symbol': 'BTCUSDT',\n",
       "  'id': 2834587,\n",
       "  'orderId': 10787341,\n",
       "  'orderListId': -1,\n",
       "  'price': '22756.85000000',\n",
       "  'qty': '0.08000000',\n",
       "  'quoteQty': '1820.54800000',\n",
       "  'commission': '0.00000000',\n",
       "  'commissionAsset': 'USDT',\n",
       "  'time': 1674299346045,\n",
       "  'isBuyer': False,\n",
       "  'isMaker': False,\n",
       "  'isBestMatch': True},\n",
       " {'symbol': 'BTCUSDT',\n",
       "  'id': 2834592,\n",
       "  'orderId': 10787346,\n",
       "  'orderListId': -1,\n",
       "  'price': '22762.45000000',\n",
       "  'qty': '0.09621200',\n",
       "  'quoteQty': '2190.02083940',\n",
       "  'commission': '0.00000000',\n",
       "  'commissionAsset': 'BTC',\n",
       "  'time': 1674299346757,\n",
       "  'isBuyer': True,\n",
       "  'isMaker': False,\n",
       "  'isBestMatch': True},\n",
       " {'symbol': 'BTCUSDT',\n",
       "  'id': 2834593,\n",
       "  'orderId': 10787346,\n",
       "  'orderListId': -1,\n",
       "  'price': '22762.61000000',\n",
       "  'qty': '0.00378800',\n",
       "  'quoteQty': '86.22476668',\n",
       "  'commission': '0.00000000',\n",
       "  'commissionAsset': 'BTC',\n",
       "  'time': 1674299346757,\n",
       "  'isBuyer': True,\n",
       "  'isMaker': False,\n",
       "  'isBestMatch': True},\n",
       " {'symbol': 'BTCUSDT',\n",
       "  'id': 2835715,\n",
       "  'orderId': 10790086,\n",
       "  'orderListId': -1,\n",
       "  'price': '22719.22000000',\n",
       "  'qty': '0.07306600',\n",
       "  'quoteQty': '1660.00252852',\n",
       "  'commission': '0.00000000',\n",
       "  'commissionAsset': 'BTC',\n",
       "  'time': 1674299855142,\n",
       "  'isBuyer': True,\n",
       "  'isMaker': False,\n",
       "  'isBestMatch': True},\n",
       " {'symbol': 'BTCUSDT',\n",
       "  'id': 2835716,\n",
       "  'orderId': 10790086,\n",
       "  'orderListId': -1,\n",
       "  'price': '22719.38000000',\n",
       "  'qty': '0.02693400',\n",
       "  'quoteQty': '611.92378092',\n",
       "  'commission': '0.00000000',\n",
       "  'commissionAsset': 'BTC',\n",
       "  'time': 1674299855142,\n",
       "  'isBuyer': True,\n",
       "  'isMaker': False,\n",
       "  'isBestMatch': True},\n",
       " {'symbol': 'BTCUSDT',\n",
       "  'id': 2835876,\n",
       "  'orderId': 10790519,\n",
       "  'orderListId': -1,\n",
       "  'price': '22687.12000000',\n",
       "  'qty': '0.10000000',\n",
       "  'quoteQty': '2268.71200000',\n",
       "  'commission': '0.00000000',\n",
       "  'commissionAsset': 'USDT',\n",
       "  'time': 1674299934444,\n",
       "  'isBuyer': False,\n",
       "  'isMaker': False,\n",
       "  'isBestMatch': True}]"
      ]
     },
     "execution_count": 117,
     "metadata": {},
     "output_type": "execute_result"
    }
   ],
   "source": [
    "trades = client.get_my_trades(symbol = \"BTCUSDT\")\n",
    "trades"
   ]
  },
  {
   "cell_type": "code",
   "execution_count": 118,
   "id": "9c79c4dd",
   "metadata": {},
   "outputs": [
    {
     "data": {
      "text/html": [
       "<div>\n",
       "<style scoped>\n",
       "    .dataframe tbody tr th:only-of-type {\n",
       "        vertical-align: middle;\n",
       "    }\n",
       "\n",
       "    .dataframe tbody tr th {\n",
       "        vertical-align: top;\n",
       "    }\n",
       "\n",
       "    .dataframe thead th {\n",
       "        text-align: right;\n",
       "    }\n",
       "</style>\n",
       "<table border=\"1\" class=\"dataframe\">\n",
       "  <thead>\n",
       "    <tr style=\"text-align: right;\">\n",
       "      <th></th>\n",
       "      <th>symbol</th>\n",
       "      <th>id</th>\n",
       "      <th>orderId</th>\n",
       "      <th>orderListId</th>\n",
       "      <th>price</th>\n",
       "      <th>qty</th>\n",
       "      <th>quoteQty</th>\n",
       "      <th>commission</th>\n",
       "      <th>commissionAsset</th>\n",
       "      <th>time</th>\n",
       "      <th>isBuyer</th>\n",
       "      <th>isMaker</th>\n",
       "      <th>isBestMatch</th>\n",
       "    </tr>\n",
       "  </thead>\n",
       "  <tbody>\n",
       "    <tr>\n",
       "      <th>0</th>\n",
       "      <td>BTCUSDT</td>\n",
       "      <td>2834577</td>\n",
       "      <td>10787333</td>\n",
       "      <td>-1</td>\n",
       "      <td>22757.93000000</td>\n",
       "      <td>0.05714100</td>\n",
       "      <td>1300.41087813</td>\n",
       "      <td>0.00000000</td>\n",
       "      <td>BTC</td>\n",
       "      <td>1674299345028</td>\n",
       "      <td>True</td>\n",
       "      <td>False</td>\n",
       "      <td>True</td>\n",
       "    </tr>\n",
       "    <tr>\n",
       "      <th>1</th>\n",
       "      <td>BTCUSDT</td>\n",
       "      <td>2834578</td>\n",
       "      <td>10787333</td>\n",
       "      <td>-1</td>\n",
       "      <td>22757.95000000</td>\n",
       "      <td>0.04285900</td>\n",
       "      <td>975.38297905</td>\n",
       "      <td>0.00000000</td>\n",
       "      <td>BTC</td>\n",
       "      <td>1674299345028</td>\n",
       "      <td>True</td>\n",
       "      <td>False</td>\n",
       "      <td>True</td>\n",
       "    </tr>\n",
       "    <tr>\n",
       "      <th>2</th>\n",
       "      <td>BTCUSDT</td>\n",
       "      <td>2834585</td>\n",
       "      <td>10787338</td>\n",
       "      <td>-1</td>\n",
       "      <td>22760.61000000</td>\n",
       "      <td>0.04393500</td>\n",
       "      <td>999.98740035</td>\n",
       "      <td>0.00000000</td>\n",
       "      <td>BTC</td>\n",
       "      <td>1674299345719</td>\n",
       "      <td>True</td>\n",
       "      <td>False</td>\n",
       "      <td>True</td>\n",
       "    </tr>\n",
       "    <tr>\n",
       "      <th>3</th>\n",
       "      <td>BTCUSDT</td>\n",
       "      <td>2834586</td>\n",
       "      <td>10787341</td>\n",
       "      <td>-1</td>\n",
       "      <td>22757.85000000</td>\n",
       "      <td>0.02000000</td>\n",
       "      <td>455.15700000</td>\n",
       "      <td>0.00000000</td>\n",
       "      <td>USDT</td>\n",
       "      <td>1674299346045</td>\n",
       "      <td>False</td>\n",
       "      <td>False</td>\n",
       "      <td>True</td>\n",
       "    </tr>\n",
       "    <tr>\n",
       "      <th>4</th>\n",
       "      <td>BTCUSDT</td>\n",
       "      <td>2834587</td>\n",
       "      <td>10787341</td>\n",
       "      <td>-1</td>\n",
       "      <td>22756.85000000</td>\n",
       "      <td>0.08000000</td>\n",
       "      <td>1820.54800000</td>\n",
       "      <td>0.00000000</td>\n",
       "      <td>USDT</td>\n",
       "      <td>1674299346045</td>\n",
       "      <td>False</td>\n",
       "      <td>False</td>\n",
       "      <td>True</td>\n",
       "    </tr>\n",
       "    <tr>\n",
       "      <th>5</th>\n",
       "      <td>BTCUSDT</td>\n",
       "      <td>2834592</td>\n",
       "      <td>10787346</td>\n",
       "      <td>-1</td>\n",
       "      <td>22762.45000000</td>\n",
       "      <td>0.09621200</td>\n",
       "      <td>2190.02083940</td>\n",
       "      <td>0.00000000</td>\n",
       "      <td>BTC</td>\n",
       "      <td>1674299346757</td>\n",
       "      <td>True</td>\n",
       "      <td>False</td>\n",
       "      <td>True</td>\n",
       "    </tr>\n",
       "    <tr>\n",
       "      <th>6</th>\n",
       "      <td>BTCUSDT</td>\n",
       "      <td>2834593</td>\n",
       "      <td>10787346</td>\n",
       "      <td>-1</td>\n",
       "      <td>22762.61000000</td>\n",
       "      <td>0.00378800</td>\n",
       "      <td>86.22476668</td>\n",
       "      <td>0.00000000</td>\n",
       "      <td>BTC</td>\n",
       "      <td>1674299346757</td>\n",
       "      <td>True</td>\n",
       "      <td>False</td>\n",
       "      <td>True</td>\n",
       "    </tr>\n",
       "    <tr>\n",
       "      <th>7</th>\n",
       "      <td>BTCUSDT</td>\n",
       "      <td>2835715</td>\n",
       "      <td>10790086</td>\n",
       "      <td>-1</td>\n",
       "      <td>22719.22000000</td>\n",
       "      <td>0.07306600</td>\n",
       "      <td>1660.00252852</td>\n",
       "      <td>0.00000000</td>\n",
       "      <td>BTC</td>\n",
       "      <td>1674299855142</td>\n",
       "      <td>True</td>\n",
       "      <td>False</td>\n",
       "      <td>True</td>\n",
       "    </tr>\n",
       "    <tr>\n",
       "      <th>8</th>\n",
       "      <td>BTCUSDT</td>\n",
       "      <td>2835716</td>\n",
       "      <td>10790086</td>\n",
       "      <td>-1</td>\n",
       "      <td>22719.38000000</td>\n",
       "      <td>0.02693400</td>\n",
       "      <td>611.92378092</td>\n",
       "      <td>0.00000000</td>\n",
       "      <td>BTC</td>\n",
       "      <td>1674299855142</td>\n",
       "      <td>True</td>\n",
       "      <td>False</td>\n",
       "      <td>True</td>\n",
       "    </tr>\n",
       "    <tr>\n",
       "      <th>9</th>\n",
       "      <td>BTCUSDT</td>\n",
       "      <td>2835876</td>\n",
       "      <td>10790519</td>\n",
       "      <td>-1</td>\n",
       "      <td>22687.12000000</td>\n",
       "      <td>0.10000000</td>\n",
       "      <td>2268.71200000</td>\n",
       "      <td>0.00000000</td>\n",
       "      <td>USDT</td>\n",
       "      <td>1674299934444</td>\n",
       "      <td>False</td>\n",
       "      <td>False</td>\n",
       "      <td>True</td>\n",
       "    </tr>\n",
       "  </tbody>\n",
       "</table>\n",
       "</div>"
      ],
      "text/plain": [
       "    symbol       id   orderId  orderListId           price         qty  \\\n",
       "0  BTCUSDT  2834577  10787333           -1  22757.93000000  0.05714100   \n",
       "1  BTCUSDT  2834578  10787333           -1  22757.95000000  0.04285900   \n",
       "2  BTCUSDT  2834585  10787338           -1  22760.61000000  0.04393500   \n",
       "3  BTCUSDT  2834586  10787341           -1  22757.85000000  0.02000000   \n",
       "4  BTCUSDT  2834587  10787341           -1  22756.85000000  0.08000000   \n",
       "5  BTCUSDT  2834592  10787346           -1  22762.45000000  0.09621200   \n",
       "6  BTCUSDT  2834593  10787346           -1  22762.61000000  0.00378800   \n",
       "7  BTCUSDT  2835715  10790086           -1  22719.22000000  0.07306600   \n",
       "8  BTCUSDT  2835716  10790086           -1  22719.38000000  0.02693400   \n",
       "9  BTCUSDT  2835876  10790519           -1  22687.12000000  0.10000000   \n",
       "\n",
       "        quoteQty  commission commissionAsset           time  isBuyer  isMaker  \\\n",
       "0  1300.41087813  0.00000000             BTC  1674299345028     True    False   \n",
       "1   975.38297905  0.00000000             BTC  1674299345028     True    False   \n",
       "2   999.98740035  0.00000000             BTC  1674299345719     True    False   \n",
       "3   455.15700000  0.00000000            USDT  1674299346045    False    False   \n",
       "4  1820.54800000  0.00000000            USDT  1674299346045    False    False   \n",
       "5  2190.02083940  0.00000000             BTC  1674299346757     True    False   \n",
       "6    86.22476668  0.00000000             BTC  1674299346757     True    False   \n",
       "7  1660.00252852  0.00000000             BTC  1674299855142     True    False   \n",
       "8   611.92378092  0.00000000             BTC  1674299855142     True    False   \n",
       "9  2268.71200000  0.00000000            USDT  1674299934444    False    False   \n",
       "\n",
       "   isBestMatch  \n",
       "0         True  \n",
       "1         True  \n",
       "2         True  \n",
       "3         True  \n",
       "4         True  \n",
       "5         True  \n",
       "6         True  \n",
       "7         True  \n",
       "8         True  \n",
       "9         True  "
      ]
     },
     "execution_count": 118,
     "metadata": {},
     "output_type": "execute_result"
    }
   ],
   "source": [
    "df = pd.DataFrame(trades)\n",
    "df"
   ]
  },
  {
   "cell_type": "code",
   "execution_count": 119,
   "id": "3f2e0c59",
   "metadata": {},
   "outputs": [],
   "source": [
    "df.time = pd.to_datetime(df.time, unit = \"ms\", errors = \"coerce\")"
   ]
  },
  {
   "cell_type": "code",
   "execution_count": 120,
   "id": "164cd013",
   "metadata": {},
   "outputs": [
    {
     "data": {
      "text/html": [
       "<div>\n",
       "<style scoped>\n",
       "    .dataframe tbody tr th:only-of-type {\n",
       "        vertical-align: middle;\n",
       "    }\n",
       "\n",
       "    .dataframe tbody tr th {\n",
       "        vertical-align: top;\n",
       "    }\n",
       "\n",
       "    .dataframe thead th {\n",
       "        text-align: right;\n",
       "    }\n",
       "</style>\n",
       "<table border=\"1\" class=\"dataframe\">\n",
       "  <thead>\n",
       "    <tr style=\"text-align: right;\">\n",
       "      <th></th>\n",
       "      <th>symbol</th>\n",
       "      <th>id</th>\n",
       "      <th>orderId</th>\n",
       "      <th>orderListId</th>\n",
       "      <th>price</th>\n",
       "      <th>qty</th>\n",
       "      <th>quoteQty</th>\n",
       "      <th>commission</th>\n",
       "      <th>commissionAsset</th>\n",
       "      <th>time</th>\n",
       "      <th>isBuyer</th>\n",
       "      <th>isMaker</th>\n",
       "      <th>isBestMatch</th>\n",
       "    </tr>\n",
       "  </thead>\n",
       "  <tbody>\n",
       "    <tr>\n",
       "      <th>0</th>\n",
       "      <td>BTCUSDT</td>\n",
       "      <td>2834577</td>\n",
       "      <td>10787333</td>\n",
       "      <td>-1</td>\n",
       "      <td>22757.93000000</td>\n",
       "      <td>0.05714100</td>\n",
       "      <td>1300.41087813</td>\n",
       "      <td>0.00000000</td>\n",
       "      <td>BTC</td>\n",
       "      <td>2023-01-21 11:09:05.028</td>\n",
       "      <td>True</td>\n",
       "      <td>False</td>\n",
       "      <td>True</td>\n",
       "    </tr>\n",
       "    <tr>\n",
       "      <th>1</th>\n",
       "      <td>BTCUSDT</td>\n",
       "      <td>2834578</td>\n",
       "      <td>10787333</td>\n",
       "      <td>-1</td>\n",
       "      <td>22757.95000000</td>\n",
       "      <td>0.04285900</td>\n",
       "      <td>975.38297905</td>\n",
       "      <td>0.00000000</td>\n",
       "      <td>BTC</td>\n",
       "      <td>2023-01-21 11:09:05.028</td>\n",
       "      <td>True</td>\n",
       "      <td>False</td>\n",
       "      <td>True</td>\n",
       "    </tr>\n",
       "    <tr>\n",
       "      <th>2</th>\n",
       "      <td>BTCUSDT</td>\n",
       "      <td>2834585</td>\n",
       "      <td>10787338</td>\n",
       "      <td>-1</td>\n",
       "      <td>22760.61000000</td>\n",
       "      <td>0.04393500</td>\n",
       "      <td>999.98740035</td>\n",
       "      <td>0.00000000</td>\n",
       "      <td>BTC</td>\n",
       "      <td>2023-01-21 11:09:05.719</td>\n",
       "      <td>True</td>\n",
       "      <td>False</td>\n",
       "      <td>True</td>\n",
       "    </tr>\n",
       "    <tr>\n",
       "      <th>3</th>\n",
       "      <td>BTCUSDT</td>\n",
       "      <td>2834586</td>\n",
       "      <td>10787341</td>\n",
       "      <td>-1</td>\n",
       "      <td>22757.85000000</td>\n",
       "      <td>0.02000000</td>\n",
       "      <td>455.15700000</td>\n",
       "      <td>0.00000000</td>\n",
       "      <td>USDT</td>\n",
       "      <td>2023-01-21 11:09:06.045</td>\n",
       "      <td>False</td>\n",
       "      <td>False</td>\n",
       "      <td>True</td>\n",
       "    </tr>\n",
       "    <tr>\n",
       "      <th>4</th>\n",
       "      <td>BTCUSDT</td>\n",
       "      <td>2834587</td>\n",
       "      <td>10787341</td>\n",
       "      <td>-1</td>\n",
       "      <td>22756.85000000</td>\n",
       "      <td>0.08000000</td>\n",
       "      <td>1820.54800000</td>\n",
       "      <td>0.00000000</td>\n",
       "      <td>USDT</td>\n",
       "      <td>2023-01-21 11:09:06.045</td>\n",
       "      <td>False</td>\n",
       "      <td>False</td>\n",
       "      <td>True</td>\n",
       "    </tr>\n",
       "    <tr>\n",
       "      <th>5</th>\n",
       "      <td>BTCUSDT</td>\n",
       "      <td>2834592</td>\n",
       "      <td>10787346</td>\n",
       "      <td>-1</td>\n",
       "      <td>22762.45000000</td>\n",
       "      <td>0.09621200</td>\n",
       "      <td>2190.02083940</td>\n",
       "      <td>0.00000000</td>\n",
       "      <td>BTC</td>\n",
       "      <td>2023-01-21 11:09:06.757</td>\n",
       "      <td>True</td>\n",
       "      <td>False</td>\n",
       "      <td>True</td>\n",
       "    </tr>\n",
       "    <tr>\n",
       "      <th>6</th>\n",
       "      <td>BTCUSDT</td>\n",
       "      <td>2834593</td>\n",
       "      <td>10787346</td>\n",
       "      <td>-1</td>\n",
       "      <td>22762.61000000</td>\n",
       "      <td>0.00378800</td>\n",
       "      <td>86.22476668</td>\n",
       "      <td>0.00000000</td>\n",
       "      <td>BTC</td>\n",
       "      <td>2023-01-21 11:09:06.757</td>\n",
       "      <td>True</td>\n",
       "      <td>False</td>\n",
       "      <td>True</td>\n",
       "    </tr>\n",
       "    <tr>\n",
       "      <th>7</th>\n",
       "      <td>BTCUSDT</td>\n",
       "      <td>2835715</td>\n",
       "      <td>10790086</td>\n",
       "      <td>-1</td>\n",
       "      <td>22719.22000000</td>\n",
       "      <td>0.07306600</td>\n",
       "      <td>1660.00252852</td>\n",
       "      <td>0.00000000</td>\n",
       "      <td>BTC</td>\n",
       "      <td>2023-01-21 11:17:35.142</td>\n",
       "      <td>True</td>\n",
       "      <td>False</td>\n",
       "      <td>True</td>\n",
       "    </tr>\n",
       "    <tr>\n",
       "      <th>8</th>\n",
       "      <td>BTCUSDT</td>\n",
       "      <td>2835716</td>\n",
       "      <td>10790086</td>\n",
       "      <td>-1</td>\n",
       "      <td>22719.38000000</td>\n",
       "      <td>0.02693400</td>\n",
       "      <td>611.92378092</td>\n",
       "      <td>0.00000000</td>\n",
       "      <td>BTC</td>\n",
       "      <td>2023-01-21 11:17:35.142</td>\n",
       "      <td>True</td>\n",
       "      <td>False</td>\n",
       "      <td>True</td>\n",
       "    </tr>\n",
       "    <tr>\n",
       "      <th>9</th>\n",
       "      <td>BTCUSDT</td>\n",
       "      <td>2835876</td>\n",
       "      <td>10790519</td>\n",
       "      <td>-1</td>\n",
       "      <td>22687.12000000</td>\n",
       "      <td>0.10000000</td>\n",
       "      <td>2268.71200000</td>\n",
       "      <td>0.00000000</td>\n",
       "      <td>USDT</td>\n",
       "      <td>2023-01-21 11:18:54.444</td>\n",
       "      <td>False</td>\n",
       "      <td>False</td>\n",
       "      <td>True</td>\n",
       "    </tr>\n",
       "  </tbody>\n",
       "</table>\n",
       "</div>"
      ],
      "text/plain": [
       "    symbol       id   orderId  orderListId           price         qty  \\\n",
       "0  BTCUSDT  2834577  10787333           -1  22757.93000000  0.05714100   \n",
       "1  BTCUSDT  2834578  10787333           -1  22757.95000000  0.04285900   \n",
       "2  BTCUSDT  2834585  10787338           -1  22760.61000000  0.04393500   \n",
       "3  BTCUSDT  2834586  10787341           -1  22757.85000000  0.02000000   \n",
       "4  BTCUSDT  2834587  10787341           -1  22756.85000000  0.08000000   \n",
       "5  BTCUSDT  2834592  10787346           -1  22762.45000000  0.09621200   \n",
       "6  BTCUSDT  2834593  10787346           -1  22762.61000000  0.00378800   \n",
       "7  BTCUSDT  2835715  10790086           -1  22719.22000000  0.07306600   \n",
       "8  BTCUSDT  2835716  10790086           -1  22719.38000000  0.02693400   \n",
       "9  BTCUSDT  2835876  10790519           -1  22687.12000000  0.10000000   \n",
       "\n",
       "        quoteQty  commission commissionAsset                    time  isBuyer  \\\n",
       "0  1300.41087813  0.00000000             BTC 2023-01-21 11:09:05.028     True   \n",
       "1   975.38297905  0.00000000             BTC 2023-01-21 11:09:05.028     True   \n",
       "2   999.98740035  0.00000000             BTC 2023-01-21 11:09:05.719     True   \n",
       "3   455.15700000  0.00000000            USDT 2023-01-21 11:09:06.045    False   \n",
       "4  1820.54800000  0.00000000            USDT 2023-01-21 11:09:06.045    False   \n",
       "5  2190.02083940  0.00000000             BTC 2023-01-21 11:09:06.757     True   \n",
       "6    86.22476668  0.00000000             BTC 2023-01-21 11:09:06.757     True   \n",
       "7  1660.00252852  0.00000000             BTC 2023-01-21 11:17:35.142     True   \n",
       "8   611.92378092  0.00000000             BTC 2023-01-21 11:17:35.142     True   \n",
       "9  2268.71200000  0.00000000            USDT 2023-01-21 11:18:54.444    False   \n",
       "\n",
       "   isMaker  isBestMatch  \n",
       "0    False         True  \n",
       "1    False         True  \n",
       "2    False         True  \n",
       "3    False         True  \n",
       "4    False         True  \n",
       "5    False         True  \n",
       "6    False         True  \n",
       "7    False         True  \n",
       "8    False         True  \n",
       "9    False         True  "
      ]
     },
     "execution_count": 120,
     "metadata": {},
     "output_type": "execute_result"
    }
   ],
   "source": [
    "df"
   ]
  },
  {
   "cell_type": "code",
   "execution_count": null,
   "id": "295c22e1",
   "metadata": {},
   "outputs": [],
   "source": []
  },
  {
   "cell_type": "markdown",
   "id": "2c96576c",
   "metadata": {},
   "source": [
    "## Creating & Running a first (simple) Trading Bot"
   ]
  },
  {
   "cell_type": "code",
   "execution_count": 121,
   "id": "a5a0eab7",
   "metadata": {},
   "outputs": [],
   "source": [
    "from binance.client import Client\n",
    "from binance import ThreadedWebsocketManager\n",
    "import pandas as pd\n",
    "import numpy as np"
   ]
  },
  {
   "cell_type": "code",
   "execution_count": 122,
   "id": "e19de878",
   "metadata": {},
   "outputs": [],
   "source": [
    "client = Client(api_key = api_key, api_secret = secret_key, tld = \"com\", testnet = True)"
   ]
  },
  {
   "cell_type": "code",
   "execution_count": 123,
   "id": "e1212188",
   "metadata": {},
   "outputs": [
    {
     "data": {
      "text/plain": [
       "{'makerCommission': 0,\n",
       " 'takerCommission': 0,\n",
       " 'buyerCommission': 0,\n",
       " 'sellerCommission': 0,\n",
       " 'commissionRates': {'maker': '0.00000000',\n",
       "  'taker': '0.00000000',\n",
       "  'buyer': '0.00000000',\n",
       "  'seller': '0.00000000'},\n",
       " 'canTrade': True,\n",
       " 'canWithdraw': False,\n",
       " 'canDeposit': False,\n",
       " 'brokered': False,\n",
       " 'requireSelfTradePrevention': False,\n",
       " 'updateTime': 1674299969118,\n",
       " 'accountType': 'SPOT',\n",
       " 'balances': [{'asset': 'BNB',\n",
       "   'free': '1000.00000000',\n",
       "   'locked': '0.00000000'},\n",
       "  {'asset': 'BTC', 'free': '0.84393500', 'locked': '0.30000000'},\n",
       "  {'asset': 'BUSD', 'free': '10000.00000000', 'locked': '0.00000000'},\n",
       "  {'asset': 'ETH', 'free': '100.00000000', 'locked': '0.00000000'},\n",
       "  {'asset': 'LTC', 'free': '500.00000000', 'locked': '0.00000000'},\n",
       "  {'asset': 'TRX', 'free': '500000.00000000', 'locked': '0.00000000'},\n",
       "  {'asset': 'USDT', 'free': '6720.46382695', 'locked': '0.00000000'},\n",
       "  {'asset': 'XRP', 'free': '50000.00000000', 'locked': '0.00000000'}],\n",
       " 'permissions': ['SPOT']}"
      ]
     },
     "execution_count": 123,
     "metadata": {},
     "output_type": "execute_result"
    }
   ],
   "source": [
    "client.get_account()"
   ]
  },
  {
   "cell_type": "markdown",
   "id": "6c8914fa",
   "metadata": {},
   "source": [
    "__A simple random Trading Bot__: Stream Market Data and buy 0.1 BTC (with USDT) once condition x (Price and/or Volume) has been met. Then stop the Stream."
   ]
  },
  {
   "cell_type": "markdown",
   "id": "6a2a2062",
   "metadata": {},
   "source": [
    "Condition x: Price (rounded down) is divisible by 10 without remainder."
   ]
  },
  {
   "cell_type": "code",
   "execution_count": 124,
   "id": "bb570a2e",
   "metadata": {},
   "outputs": [
    {
     "data": {
      "text/plain": [
       "5"
      ]
     },
     "execution_count": 124,
     "metadata": {},
     "output_type": "execute_result"
    }
   ],
   "source": [
    "40215 % 10 # modulo"
   ]
  },
  {
   "cell_type": "code",
   "execution_count": 125,
   "id": "bcda5431",
   "metadata": {},
   "outputs": [],
   "source": [
    "twm = ThreadedWebsocketManager()\n",
    "twm.start()"
   ]
  },
  {
   "cell_type": "markdown",
   "id": "887728e8",
   "metadata": {},
   "source": [
    "__Using the Miniticker Stream:__"
   ]
  },
  {
   "attachments": {
    "image.png": {
     "image/png": "[encoded data removed]"
    }
   },
   "cell_type": "markdown",
   "id": "1c1b2b0b",
   "metadata": {},
   "source": [
    "![image.png](attachment:image.png)"
   ]
  },
  {
   "cell_type": "code",
   "execution_count": 126,
   "id": "c8f056fc",
   "metadata": {},
   "outputs": [],
   "source": [
    "def simple_bot(msg):\n",
    "    ''' define how to process incoming WebSocket messages '''\n",
    "    \n",
    "    time = pd.to_datetime(msg[\"E\"], unit = \"ms\")\n",
    "    price = float(msg[\"c\"])\n",
    "    \n",
    "    print(\"Time: {} | Price: {}\".format(time, price))\n",
    "    \n",
    "    if int(price) % 10 == 0:\n",
    "        order = client.create_order(symbol = \"BTCUSDT\", side = \"BUY\", type = \"MARKET\", quantity = 0.1)\n",
    "        print(\"\\n\" + 50 * \"-\")\n",
    "        print(\"Buy {} BTC for {} USDT\".format(order[\"executedQty\"], order[\"cummulativeQuoteQty\"]))\n",
    "        print(50 * \"-\" + \"\\n\")\n",
    "        \n",
    "        twm.stop()"
   ]
  },
  {
   "cell_type": "code",
   "execution_count": 127,
   "id": "d7c3a21f",
   "metadata": {},
   "outputs": [
    {
     "data": {
      "text/plain": [
       "'btcusdt@miniTicker'"
      ]
     },
     "execution_count": 127,
     "metadata": {},
     "output_type": "execute_result"
    }
   ],
   "source": [
    "twm.start_symbol_miniticker_socket(callback = simple_bot, symbol = \"BTCUSDT\")"
   ]
  },
  {
   "cell_type": "code",
   "execution_count": 128,
   "id": "f9cdab61",
   "metadata": {},
   "outputs": [
    {
     "data": {
      "text/plain": [
       "{'makerCommission': 0,\n",
       " 'takerCommission': 0,\n",
       " 'buyerCommission': 0,\n",
       " 'sellerCommission': 0,\n",
       " 'commissionRates': {'maker': '0.00000000',\n",
       "  'taker': '0.00000000',\n",
       "  'buyer': '0.00000000',\n",
       "  'seller': '0.00000000'},\n",
       " 'canTrade': True,\n",
       " 'canWithdraw': False,\n",
       " 'canDeposit': False,\n",
       " 'brokered': False,\n",
       " 'requireSelfTradePrevention': False,\n",
       " 'updateTime': 1674299969118,\n",
       " 'accountType': 'SPOT',\n",
       " 'balances': [{'asset': 'BNB',\n",
       "   'free': '1000.00000000',\n",
       "   'locked': '0.00000000'},\n",
       "  {'asset': 'BTC', 'free': '0.84393500', 'locked': '0.30000000'},\n",
       "  {'asset': 'BUSD', 'free': '10000.00000000', 'locked': '0.00000000'},\n",
       "  {'asset': 'ETH', 'free': '100.00000000', 'locked': '0.00000000'},\n",
       "  {'asset': 'LTC', 'free': '500.00000000', 'locked': '0.00000000'},\n",
       "  {'asset': 'TRX', 'free': '500000.00000000', 'locked': '0.00000000'},\n",
       "  {'asset': 'USDT', 'free': '6720.46382695', 'locked': '0.00000000'},\n",
       "  {'asset': 'XRP', 'free': '50000.00000000', 'locked': '0.00000000'}],\n",
       " 'permissions': ['SPOT']}"
      ]
     },
     "execution_count": 128,
     "metadata": {},
     "output_type": "execute_result"
    },
    {
     "name": "stdout",
     "output_type": "stream",
     "text": [
      "Time: 2023-01-21 11:20:07.722000 | Price: 22718.65\n",
      "Time: 2023-01-21 11:20:08.737000 | Price: 22719.17\n",
      "Time: 2023-01-21 11:20:09.729000 | Price: 22721.39\n",
      "Time: 2023-01-21 11:20:10.627000 | Price: 22722.36\n",
      "Time: 2023-01-21 11:20:11.698000 | Price: 22722.88\n",
      "Time: 2023-01-21 11:20:12.752000 | Price: 22721.51\n",
      "Time: 2023-01-21 11:20:13.709000 | Price: 22724.5\n",
      "Time: 2023-01-21 11:20:14.742000 | Price: 22724.9\n",
      "Time: 2023-01-21 11:20:15.759000 | Price: 22725.08\n",
      "Time: 2023-01-21 11:20:16.763000 | Price: 22724.12\n",
      "Time: 2023-01-21 11:20:17.672000 | Price: 22719.98\n",
      "Time: 2023-01-21 11:20:18.744000 | Price: 22718.94\n",
      "Time: 2023-01-21 11:20:19.743000 | Price: 22720.14\n",
      "\n",
      "--------------------------------------------------\n",
      "Buy 0.10000000 BTC for 2272.03586323 USDT\n",
      "--------------------------------------------------\n",
      "\n"
     ]
    }
   ],
   "source": [
    "client.get_account() "
   ]
  },
  {
   "cell_type": "code",
   "execution_count": null,
   "id": "b8095c23",
   "metadata": {},
   "outputs": [],
   "source": []
  }
 ],
 "metadata": {
  "kernelspec": {
   "display_name": "myenv2",
   "language": "python",
   "name": "python3"
  },
  "language_info": {
   "codemirror_mode": {
    "name": "ipython",
    "version": 3
   },
   "file_extension": ".py",
   "mimetype": "text/x-python",
   "name": "python",
   "nbconvert_exporter": "python",
   "pygments_lexer": "ipython3",
   "version": "3.7.0 (default, Jun 28 2018, 08:04:48) [MSC v.1912 64 bit (AMD64)]"
  },
  "vscode": {
   "interpreter": {
    "hash": "f33cb07ea2eaa7d63c88bf26697099e74f0c204dda880ca443a57f1fa96f47de"
   }
  }
 },
 "nbformat": 4,
 "nbformat_minor": 5
}
